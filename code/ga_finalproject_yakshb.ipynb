{
 "cells": [
  {
   "cell_type": "markdown",
   "id": "79b2c4b9-f500-4719-9214-a26ccbc56062",
   "metadata": {},
   "source": [
    "# Assessing Financial Inclusion in High-Income & Developing Countries "
   ]
  },
  {
   "cell_type": "markdown",
   "id": "fb99c96f-c9de-4344-aaff-7f0f3e4d1df5",
   "metadata": {},
   "source": [
    "## Preprocessing Global Findex Dataset"
   ]
  },
  {
   "cell_type": "code",
   "execution_count": 1,
   "id": "ea45be7a-eda3-4767-8243-d1cc65bf661e",
   "metadata": {},
   "outputs": [],
   "source": [
    "# Import all necessary libraries and dependencies\n",
    "\n",
    "import pandas as pd \n",
    "import numpy as np\n",
    "import seaborn as sns\n",
    "import matplotlib.pyplot as plt\n",
    "from sklearn.preprocessing import LabelEncoder #for feature engineering\n",
    "from sklearn.model_selection import train_test_split\n",
    "from sklearn.linear_model import LogisticRegression\n",
    "from sklearn.ensemble import RandomForestClassifier, GradientBoostingClassifier\n",
    "from sklearn import metrics"
   ]
  },
  {
   "cell_type": "code",
   "execution_count": 2,
   "id": "2efd2946-eccd-4352-a633-80ad4ebb19a1",
   "metadata": {},
   "outputs": [],
   "source": [
    "micro_world = pd.read_csv(r'C:\\Users\\yaksh\\OneDrive\\GA_DataScience_Course\\Final_Project_YB\\emkts_credit_scoring\\micro_world.csv', encoding='ISO-8859-1')"
   ]
  },
  {
   "cell_type": "code",
   "execution_count": 3,
   "id": "0445cfda-df4e-461c-b466-5803f6b9adcc",
   "metadata": {},
   "outputs": [
    {
     "data": {
      "text/html": [
       "<div>\n",
       "<style scoped>\n",
       "    .dataframe tbody tr th:only-of-type {\n",
       "        vertical-align: middle;\n",
       "    }\n",
       "\n",
       "    .dataframe tbody tr th {\n",
       "        vertical-align: top;\n",
       "    }\n",
       "\n",
       "    .dataframe thead th {\n",
       "        text-align: right;\n",
       "    }\n",
       "</style>\n",
       "<table border=\"1\" class=\"dataframe\">\n",
       "  <thead>\n",
       "    <tr style=\"text-align: right;\">\n",
       "      <th></th>\n",
       "      <th>economy</th>\n",
       "      <th>economycode</th>\n",
       "      <th>regionwb</th>\n",
       "      <th>pop_adult</th>\n",
       "      <th>wpid_random</th>\n",
       "      <th>wgt</th>\n",
       "      <th>female</th>\n",
       "      <th>age</th>\n",
       "      <th>educ</th>\n",
       "      <th>inc_q</th>\n",
       "      <th>...</th>\n",
       "      <th>receive_wages</th>\n",
       "      <th>receive_transfers</th>\n",
       "      <th>receive_pension</th>\n",
       "      <th>receive_agriculture</th>\n",
       "      <th>pay_utilities</th>\n",
       "      <th>remittances</th>\n",
       "      <th>mobileowner</th>\n",
       "      <th>internetaccess</th>\n",
       "      <th>anydigpayment</th>\n",
       "      <th>merchantpay_dig</th>\n",
       "    </tr>\n",
       "  </thead>\n",
       "  <tbody>\n",
       "    <tr>\n",
       "      <th>0</th>\n",
       "      <td>Afghanistan</td>\n",
       "      <td>AFG</td>\n",
       "      <td>South Asia</td>\n",
       "      <td>22647496.0</td>\n",
       "      <td>140343632</td>\n",
       "      <td>0.774286</td>\n",
       "      <td>1</td>\n",
       "      <td>19.0</td>\n",
       "      <td>2</td>\n",
       "      <td>4</td>\n",
       "      <td>...</td>\n",
       "      <td>4</td>\n",
       "      <td>4</td>\n",
       "      <td>4</td>\n",
       "      <td>4.0</td>\n",
       "      <td>4</td>\n",
       "      <td>5.0</td>\n",
       "      <td>1</td>\n",
       "      <td>2</td>\n",
       "      <td>0</td>\n",
       "      <td>0.0</td>\n",
       "    </tr>\n",
       "    <tr>\n",
       "      <th>1</th>\n",
       "      <td>Afghanistan</td>\n",
       "      <td>AFG</td>\n",
       "      <td>South Asia</td>\n",
       "      <td>22647496.0</td>\n",
       "      <td>167823412</td>\n",
       "      <td>0.766367</td>\n",
       "      <td>1</td>\n",
       "      <td>40.0</td>\n",
       "      <td>1</td>\n",
       "      <td>5</td>\n",
       "      <td>...</td>\n",
       "      <td>4</td>\n",
       "      <td>4</td>\n",
       "      <td>4</td>\n",
       "      <td>4.0</td>\n",
       "      <td>4</td>\n",
       "      <td>5.0</td>\n",
       "      <td>1</td>\n",
       "      <td>2</td>\n",
       "      <td>0</td>\n",
       "      <td>0.0</td>\n",
       "    </tr>\n",
       "    <tr>\n",
       "      <th>2</th>\n",
       "      <td>Afghanistan</td>\n",
       "      <td>AFG</td>\n",
       "      <td>South Asia</td>\n",
       "      <td>22647496.0</td>\n",
       "      <td>182483450</td>\n",
       "      <td>0.588983</td>\n",
       "      <td>1</td>\n",
       "      <td>25.0</td>\n",
       "      <td>1</td>\n",
       "      <td>1</td>\n",
       "      <td>...</td>\n",
       "      <td>4</td>\n",
       "      <td>4</td>\n",
       "      <td>4</td>\n",
       "      <td>4.0</td>\n",
       "      <td>4</td>\n",
       "      <td>5.0</td>\n",
       "      <td>1</td>\n",
       "      <td>2</td>\n",
       "      <td>0</td>\n",
       "      <td>0.0</td>\n",
       "    </tr>\n",
       "    <tr>\n",
       "      <th>3</th>\n",
       "      <td>Afghanistan</td>\n",
       "      <td>AFG</td>\n",
       "      <td>South Asia</td>\n",
       "      <td>22647496.0</td>\n",
       "      <td>170778240</td>\n",
       "      <td>2.572345</td>\n",
       "      <td>1</td>\n",
       "      <td>40.0</td>\n",
       "      <td>1</td>\n",
       "      <td>4</td>\n",
       "      <td>...</td>\n",
       "      <td>4</td>\n",
       "      <td>4</td>\n",
       "      <td>4</td>\n",
       "      <td>4.0</td>\n",
       "      <td>4</td>\n",
       "      <td>5.0</td>\n",
       "      <td>2</td>\n",
       "      <td>2</td>\n",
       "      <td>0</td>\n",
       "      <td>0.0</td>\n",
       "    </tr>\n",
       "    <tr>\n",
       "      <th>4</th>\n",
       "      <td>Afghanistan</td>\n",
       "      <td>AFG</td>\n",
       "      <td>South Asia</td>\n",
       "      <td>22647496.0</td>\n",
       "      <td>170712642</td>\n",
       "      <td>0.525471</td>\n",
       "      <td>2</td>\n",
       "      <td>27.0</td>\n",
       "      <td>3</td>\n",
       "      <td>1</td>\n",
       "      <td>...</td>\n",
       "      <td>1</td>\n",
       "      <td>4</td>\n",
       "      <td>4</td>\n",
       "      <td>4.0</td>\n",
       "      <td>4</td>\n",
       "      <td>5.0</td>\n",
       "      <td>1</td>\n",
       "      <td>1</td>\n",
       "      <td>1</td>\n",
       "      <td>0.0</td>\n",
       "    </tr>\n",
       "  </tbody>\n",
       "</table>\n",
       "<p>5 rows × 127 columns</p>\n",
       "</div>"
      ],
      "text/plain": [
       "       economy economycode    regionwb   pop_adult  wpid_random       wgt  \\\n",
       "0  Afghanistan         AFG  South Asia  22647496.0    140343632  0.774286   \n",
       "1  Afghanistan         AFG  South Asia  22647496.0    167823412  0.766367   \n",
       "2  Afghanistan         AFG  South Asia  22647496.0    182483450  0.588983   \n",
       "3  Afghanistan         AFG  South Asia  22647496.0    170778240  2.572345   \n",
       "4  Afghanistan         AFG  South Asia  22647496.0    170712642  0.525471   \n",
       "\n",
       "   female   age  educ  inc_q  ...  receive_wages  receive_transfers  \\\n",
       "0       1  19.0     2      4  ...              4                  4   \n",
       "1       1  40.0     1      5  ...              4                  4   \n",
       "2       1  25.0     1      1  ...              4                  4   \n",
       "3       1  40.0     1      4  ...              4                  4   \n",
       "4       2  27.0     3      1  ...              1                  4   \n",
       "\n",
       "   receive_pension  receive_agriculture  pay_utilities  remittances  \\\n",
       "0                4                  4.0              4          5.0   \n",
       "1                4                  4.0              4          5.0   \n",
       "2                4                  4.0              4          5.0   \n",
       "3                4                  4.0              4          5.0   \n",
       "4                4                  4.0              4          5.0   \n",
       "\n",
       "   mobileowner  internetaccess  anydigpayment  merchantpay_dig  \n",
       "0            1               2              0              0.0  \n",
       "1            1               2              0              0.0  \n",
       "2            1               2              0              0.0  \n",
       "3            2               2              0              0.0  \n",
       "4            1               1              1              0.0  \n",
       "\n",
       "[5 rows x 127 columns]"
      ]
     },
     "execution_count": 3,
     "metadata": {},
     "output_type": "execute_result"
    }
   ],
   "source": [
    "micro_world.head()"
   ]
  },
  {
   "cell_type": "code",
   "execution_count": 4,
   "id": "1f74ff71-31f2-4ebb-b051-7a08a1834b1e",
   "metadata": {},
   "outputs": [
    {
     "data": {
      "text/plain": [
       "(127854, 127)"
      ]
     },
     "execution_count": 4,
     "metadata": {},
     "output_type": "execute_result"
    }
   ],
   "source": [
    "micro_world.shape"
   ]
  },
  {
   "cell_type": "code",
   "execution_count": 5,
   "id": "8ef4f530-e347-4a53-897b-32569f90f4c1",
   "metadata": {},
   "outputs": [
    {
     "data": {
      "text/plain": [
       "<bound method DataFrame.info of             economy economycode                                    regionwb  \\\n",
       "0       Afghanistan         AFG                                  South Asia   \n",
       "1       Afghanistan         AFG                                  South Asia   \n",
       "2       Afghanistan         AFG                                  South Asia   \n",
       "3       Afghanistan         AFG                                  South Asia   \n",
       "4       Afghanistan         AFG                                  South Asia   \n",
       "...             ...         ...                                         ...   \n",
       "127849     Zimbabwe         ZWE  Sub-Saharan Africa (excluding high income)   \n",
       "127850     Zimbabwe         ZWE  Sub-Saharan Africa (excluding high income)   \n",
       "127851     Zimbabwe         ZWE  Sub-Saharan Africa (excluding high income)   \n",
       "127852     Zimbabwe         ZWE  Sub-Saharan Africa (excluding high income)   \n",
       "127853     Zimbabwe         ZWE  Sub-Saharan Africa (excluding high income)   \n",
       "\n",
       "         pop_adult  wpid_random       wgt  female   age  educ  inc_q  ...  \\\n",
       "0       22647496.0    140343632  0.774286       1  19.0     2      4  ...   \n",
       "1       22647496.0    167823412  0.766367       1  40.0     1      5  ...   \n",
       "2       22647496.0    182483450  0.588983       1  25.0     1      1  ...   \n",
       "3       22647496.0    170778240  2.572345       1  40.0     1      4  ...   \n",
       "4       22647496.0    170712642  0.525471       2  27.0     3      1  ...   \n",
       "...            ...          ...       ...     ...   ...   ...    ...  ...   \n",
       "127849   8633711.0    146408198  0.397028       2  24.0     2      4  ...   \n",
       "127850   8633711.0    185802346  0.735075       1  17.0     2      2  ...   \n",
       "127851   8633711.0    132803330  0.284466       1  16.0     1      5  ...   \n",
       "127852   8633711.0    164464742  0.794833       2  38.0     2      4  ...   \n",
       "127853   8633711.0    205849083  0.465246       1  69.0     1      3  ...   \n",
       "\n",
       "        receive_wages  receive_transfers  receive_pension  \\\n",
       "0                   4                  4                4   \n",
       "1                   4                  4                4   \n",
       "2                   4                  4                4   \n",
       "3                   4                  4                4   \n",
       "4                   1                  4                4   \n",
       "...               ...                ...              ...   \n",
       "127849              4                  4                4   \n",
       "127850              4                  4                4   \n",
       "127851              4                  4                4   \n",
       "127852              4                  4                4   \n",
       "127853              4                  4                4   \n",
       "\n",
       "        receive_agriculture  pay_utilities  remittances  mobileowner  \\\n",
       "0                       4.0              4          5.0            1   \n",
       "1                       4.0              4          5.0            1   \n",
       "2                       4.0              4          5.0            1   \n",
       "3                       4.0              4          5.0            2   \n",
       "4                       4.0              4          5.0            1   \n",
       "...                     ...            ...          ...          ...   \n",
       "127849                  4.0              4          1.0            1   \n",
       "127850                  4.0              4          4.0            1   \n",
       "127851                  4.0              4          1.0            2   \n",
       "127852                  4.0              4          5.0            1   \n",
       "127853                  4.0              4          5.0            1   \n",
       "\n",
       "        internetaccess  anydigpayment  merchantpay_dig  \n",
       "0                    2              0              0.0  \n",
       "1                    2              0              0.0  \n",
       "2                    2              0              0.0  \n",
       "3                    2              0              0.0  \n",
       "4                    1              1              0.0  \n",
       "...                ...            ...              ...  \n",
       "127849               2              0              0.0  \n",
       "127850               1              0              0.0  \n",
       "127851               1              0              0.0  \n",
       "127852               1              0              0.0  \n",
       "127853               2              0              0.0  \n",
       "\n",
       "[127854 rows x 127 columns]>"
      ]
     },
     "execution_count": 5,
     "metadata": {},
     "output_type": "execute_result"
    }
   ],
   "source": [
    "# Check data types\n",
    "micro_world.info"
   ]
  },
  {
   "cell_type": "code",
   "execution_count": 6,
   "id": "f47f4920-5a94-4dfc-8db0-19adbfdb7d7c",
   "metadata": {},
   "outputs": [
    {
     "data": {
      "text/plain": [
       "economy               123\n",
       "economycode           123\n",
       "regionwb                7\n",
       "pop_adult             123\n",
       "wpid_random        127854\n",
       "                    ...  \n",
       "remittances             6\n",
       "mobileowner             4\n",
       "internetaccess          4\n",
       "anydigpayment           2\n",
       "merchantpay_dig         2\n",
       "Length: 127, dtype: int64"
      ]
     },
     "execution_count": 6,
     "metadata": {},
     "output_type": "execute_result"
    }
   ],
   "source": [
    "# Check all unique values\n",
    "micro_world.nunique()"
   ]
  },
  {
   "cell_type": "markdown",
   "id": "ad08715b-00e5-41f6-8144-7854bd14b118",
   "metadata": {},
   "source": [
    "### Determine Frequency of Select Columns"
   ]
  },
  {
   "cell_type": "code",
   "execution_count": 7,
   "id": "746a67fa-3805-43f7-882f-6e36c38f7f76",
   "metadata": {},
   "outputs": [
    {
     "data": {
      "text/plain": [
       "High income                                           40635\n",
       "Sub-Saharan Africa (excluding high income)            25037\n",
       "Europe & Central Asia (excluding high income)         18022\n",
       "Latin America & Caribbean (excluding high income)     14519\n",
       "East Asia & Pacific (excluding high income)           11579\n",
       "Middle East & North Africa (excluding high income)     9053\n",
       "South Asia                                             8009\n",
       "Name: regionwb, dtype: int64"
      ]
     },
     "execution_count": 7,
     "metadata": {},
     "output_type": "execute_result"
    }
   ],
   "source": [
    "micro_world.regionwb.value_counts()"
   ]
  },
  {
   "cell_type": "code",
   "execution_count": 8,
   "id": "6da265fb-efd2-42fe-b202-7a54687a7653",
   "metadata": {},
   "outputs": [
    {
     "data": {
      "text/plain": [
       "China                 3500\n",
       "India                 3000\n",
       "Russian Federation    2011\n",
       "Indonesia             1062\n",
       "Lebanon               1022\n",
       "                      ... \n",
       "Mali                  1000\n",
       "Malaysia              1000\n",
       "Zimbabwe              1000\n",
       "Iceland                502\n",
       "Jamaica                502\n",
       "Name: economy, Length: 123, dtype: int64"
      ]
     },
     "execution_count": 8,
     "metadata": {},
     "output_type": "execute_result"
    }
   ],
   "source": [
    "micro_world.economy.value_counts()"
   ]
  },
  {
   "cell_type": "code",
   "execution_count": 9,
   "id": "19ae02de-a934-405b-bbb9-504ec785bbd4",
   "metadata": {},
   "outputs": [
    {
     "data": {
      "text/plain": [
       "economy                0\n",
       "economycode            0\n",
       "regionwb            1000\n",
       "pop_adult              0\n",
       "wpid_random            0\n",
       "                   ...  \n",
       "remittances        29606\n",
       "mobileowner            0\n",
       "internetaccess         0\n",
       "anydigpayment          0\n",
       "merchantpay_dig    29606\n",
       "Length: 127, dtype: int64"
      ]
     },
     "execution_count": 9,
     "metadata": {},
     "output_type": "execute_result"
    }
   ],
   "source": [
    "micro_world.isnull().sum()"
   ]
  },
  {
   "cell_type": "markdown",
   "id": "2c3dd27c-7aea-4599-b3b8-15a36851dcbf",
   "metadata": {},
   "source": [
    "### Cleaning the Findex Dataset"
   ]
  },
  {
   "cell_type": "code",
   "execution_count": 10,
   "id": "f40cfd60-389e-4a7f-8b3d-e5e597dabf2c",
   "metadata": {},
   "outputs": [],
   "source": [
    "# Modify ages to be filled with median values - Age is not determined to be a feature column for the model evaluation\n",
    "micro_world.age.fillna(micro_world.age.median(), inplace=True)"
   ]
  },
  {
   "cell_type": "code",
   "execution_count": 11,
   "id": "65cb6ce9-f151-4a31-9690-a858cb7ccf2e",
   "metadata": {},
   "outputs": [],
   "source": [
    "# Remove any rows with NA values from Regionwb\n",
    "micro_world.dropna(subset=['regionwb'], inplace=True)"
   ]
  },
  {
   "cell_type": "code",
   "execution_count": 12,
   "id": "39b40329-c627-4611-abd8-05628c5c6570",
   "metadata": {},
   "outputs": [
    {
     "data": {
      "text/plain": [
       "(126854, 127)"
      ]
     },
     "execution_count": 12,
     "metadata": {},
     "output_type": "execute_result"
    }
   ],
   "source": [
    "micro_world.shape"
   ]
  },
  {
   "cell_type": "code",
   "execution_count": 13,
   "id": "b4f2b4f0-28ae-4643-8f0e-6218fbaa96eb",
   "metadata": {},
   "outputs": [
    {
     "data": {
      "text/plain": [
       "array([2, 1, 3, 5, 4], dtype=int64)"
      ]
     },
     "execution_count": 13,
     "metadata": {},
     "output_type": "execute_result"
    }
   ],
   "source": [
    "micro_world.educ.unique()"
   ]
  },
  {
   "cell_type": "code",
   "execution_count": 14,
   "id": "176f8cae-495e-4144-80ae-c1f91d57a1e4",
   "metadata": {},
   "outputs": [
    {
     "data": {
      "text/plain": [
       "<Axes: >"
      ]
     },
     "execution_count": 14,
     "metadata": {},
     "output_type": "execute_result"
    },
    {
     "data": {
      "image/png": "[encoded data removed]",
      "text/plain": [
       "<Figure size 640x480 with 1 Axes>"
      ]
     },
     "metadata": {},
     "output_type": "display_data"
    }
   ],
   "source": [
    "micro_world['educ'].hist()"
   ]
  },
  {
   "cell_type": "markdown",
   "id": "8c4f50be-deea-491a-92d3-21176818abc3",
   "metadata": {},
   "source": [
    "- Education column contains results '4' and '5', which are not found in the data dictionary. Remove rows with these instances to have an appropriate benchmark for comparison "
   ]
  },
  {
   "cell_type": "code",
   "execution_count": 15,
   "id": "43513b1a-643a-4620-befa-a60a3f6379bb",
   "metadata": {},
   "outputs": [],
   "source": [
    "# Filter the data frame to keep only rows where 'educ' is 1, 2, or 3\n",
    "micro_world = micro_world[micro_world['educ'].isin([1, 2, 3])]"
   ]
  },
  {
   "cell_type": "code",
   "execution_count": 16,
   "id": "9faeb5d5-03a4-4dfc-b814-c3427d7e7d55",
   "metadata": {},
   "outputs": [
    {
     "data": {
      "text/plain": [
       "array([2, 1, 3], dtype=int64)"
      ]
     },
     "execution_count": 16,
     "metadata": {},
     "output_type": "execute_result"
    }
   ],
   "source": [
    "micro_world.educ.unique()"
   ]
  },
  {
   "cell_type": "markdown",
   "id": "c0109675-8aae-468c-80de-7263d1ab3123",
   "metadata": {},
   "source": [
    "## Retrieve and Combine the 2021 Global Multidimensional Poverty Index Data"
   ]
  },
  {
   "cell_type": "markdown",
   "id": "4da91c39-4122-4c24-9c30-44f851011d78",
   "metadata": {},
   "source": [
    "Link to HD Report and HDI Dataset: https://hdr.undp.org/content/2021-global-multidimensional-poverty-index-mpi#/indicies/MPI"
   ]
  },
  {
   "cell_type": "code",
   "execution_count": 17,
   "id": "a7a6641b-99a3-4af8-aa90-4aa3343d4a74",
   "metadata": {},
   "outputs": [],
   "source": [
    "hdi_report = pd.read_csv(r'C:\\Users\\yaksh\\OneDrive\\GA_DataScience_Course\\Final_Project_YB\\emkts_credit_scoring\\hdi_report_21.csv', encoding='ISO-8859-1')"
   ]
  },
  {
   "cell_type": "code",
   "execution_count": 18,
   "id": "16b717f8-92df-4ab6-8081-3d14f525395d",
   "metadata": {},
   "outputs": [
    {
     "data": {
      "text/html": [
       "<div>\n",
       "<style scoped>\n",
       "    .dataframe tbody tr th:only-of-type {\n",
       "        vertical-align: middle;\n",
       "    }\n",
       "\n",
       "    .dataframe tbody tr th {\n",
       "        vertical-align: top;\n",
       "    }\n",
       "\n",
       "    .dataframe thead th {\n",
       "        text-align: right;\n",
       "    }\n",
       "</style>\n",
       "<table border=\"1\" class=\"dataframe\">\n",
       "  <thead>\n",
       "    <tr style=\"text-align: right;\">\n",
       "      <th></th>\n",
       "      <th>economycode</th>\n",
       "      <th>economy</th>\n",
       "      <th>hdi_rank_2021</th>\n",
       "      <th>hdi_2020</th>\n",
       "      <th>hdi_2021</th>\n",
       "    </tr>\n",
       "  </thead>\n",
       "  <tbody>\n",
       "    <tr>\n",
       "      <th>0</th>\n",
       "      <td>AFG</td>\n",
       "      <td>Afghanistan</td>\n",
       "      <td>180.0</td>\n",
       "      <td>0.483</td>\n",
       "      <td>0.478</td>\n",
       "    </tr>\n",
       "    <tr>\n",
       "      <th>1</th>\n",
       "      <td>AGO</td>\n",
       "      <td>Angola</td>\n",
       "      <td>148.0</td>\n",
       "      <td>0.590</td>\n",
       "      <td>0.586</td>\n",
       "    </tr>\n",
       "    <tr>\n",
       "      <th>2</th>\n",
       "      <td>ALB</td>\n",
       "      <td>Albania</td>\n",
       "      <td>67.0</td>\n",
       "      <td>0.794</td>\n",
       "      <td>0.796</td>\n",
       "    </tr>\n",
       "    <tr>\n",
       "      <th>3</th>\n",
       "      <td>AND</td>\n",
       "      <td>Andorra</td>\n",
       "      <td>40.0</td>\n",
       "      <td>0.848</td>\n",
       "      <td>0.858</td>\n",
       "    </tr>\n",
       "    <tr>\n",
       "      <th>4</th>\n",
       "      <td>ARE</td>\n",
       "      <td>United Arab Emirates</td>\n",
       "      <td>26.0</td>\n",
       "      <td>0.912</td>\n",
       "      <td>0.911</td>\n",
       "    </tr>\n",
       "  </tbody>\n",
       "</table>\n",
       "</div>"
      ],
      "text/plain": [
       "  economycode               economy  hdi_rank_2021  hdi_2020  hdi_2021\n",
       "0         AFG           Afghanistan          180.0     0.483     0.478\n",
       "1         AGO                Angola          148.0     0.590     0.586\n",
       "2         ALB               Albania           67.0     0.794     0.796\n",
       "3         AND               Andorra           40.0     0.848     0.858\n",
       "4         ARE  United Arab Emirates           26.0     0.912     0.911"
      ]
     },
     "execution_count": 18,
     "metadata": {},
     "output_type": "execute_result"
    }
   ],
   "source": [
    "hdi_report.head()"
   ]
  },
  {
   "cell_type": "code",
   "execution_count": 19,
   "id": "bb6c6dbe-598d-4212-9d8e-4d9942c8299e",
   "metadata": {},
   "outputs": [
    {
     "data": {
      "text/html": [
       "<div>\n",
       "<style scoped>\n",
       "    .dataframe tbody tr th:only-of-type {\n",
       "        vertical-align: middle;\n",
       "    }\n",
       "\n",
       "    .dataframe tbody tr th {\n",
       "        vertical-align: top;\n",
       "    }\n",
       "\n",
       "    .dataframe thead th {\n",
       "        text-align: right;\n",
       "    }\n",
       "</style>\n",
       "<table border=\"1\" class=\"dataframe\">\n",
       "  <thead>\n",
       "    <tr style=\"text-align: right;\">\n",
       "      <th></th>\n",
       "      <th>economy</th>\n",
       "      <th>economycode</th>\n",
       "      <th>regionwb</th>\n",
       "      <th>pop_adult</th>\n",
       "      <th>wpid_random</th>\n",
       "      <th>wgt</th>\n",
       "      <th>female</th>\n",
       "      <th>age</th>\n",
       "      <th>educ</th>\n",
       "      <th>inc_q</th>\n",
       "      <th>...</th>\n",
       "      <th>receive_wages</th>\n",
       "      <th>receive_transfers</th>\n",
       "      <th>receive_pension</th>\n",
       "      <th>receive_agriculture</th>\n",
       "      <th>pay_utilities</th>\n",
       "      <th>remittances</th>\n",
       "      <th>mobileowner</th>\n",
       "      <th>internetaccess</th>\n",
       "      <th>anydigpayment</th>\n",
       "      <th>merchantpay_dig</th>\n",
       "    </tr>\n",
       "  </thead>\n",
       "  <tbody>\n",
       "    <tr>\n",
       "      <th>0</th>\n",
       "      <td>Afghanistan</td>\n",
       "      <td>AFG</td>\n",
       "      <td>South Asia</td>\n",
       "      <td>22647496.0</td>\n",
       "      <td>140343632</td>\n",
       "      <td>0.774286</td>\n",
       "      <td>1</td>\n",
       "      <td>19.0</td>\n",
       "      <td>2</td>\n",
       "      <td>4</td>\n",
       "      <td>...</td>\n",
       "      <td>4</td>\n",
       "      <td>4</td>\n",
       "      <td>4</td>\n",
       "      <td>4.0</td>\n",
       "      <td>4</td>\n",
       "      <td>5.0</td>\n",
       "      <td>1</td>\n",
       "      <td>2</td>\n",
       "      <td>0</td>\n",
       "      <td>0.0</td>\n",
       "    </tr>\n",
       "    <tr>\n",
       "      <th>1</th>\n",
       "      <td>Afghanistan</td>\n",
       "      <td>AFG</td>\n",
       "      <td>South Asia</td>\n",
       "      <td>22647496.0</td>\n",
       "      <td>167823412</td>\n",
       "      <td>0.766367</td>\n",
       "      <td>1</td>\n",
       "      <td>40.0</td>\n",
       "      <td>1</td>\n",
       "      <td>5</td>\n",
       "      <td>...</td>\n",
       "      <td>4</td>\n",
       "      <td>4</td>\n",
       "      <td>4</td>\n",
       "      <td>4.0</td>\n",
       "      <td>4</td>\n",
       "      <td>5.0</td>\n",
       "      <td>1</td>\n",
       "      <td>2</td>\n",
       "      <td>0</td>\n",
       "      <td>0.0</td>\n",
       "    </tr>\n",
       "    <tr>\n",
       "      <th>2</th>\n",
       "      <td>Afghanistan</td>\n",
       "      <td>AFG</td>\n",
       "      <td>South Asia</td>\n",
       "      <td>22647496.0</td>\n",
       "      <td>182483450</td>\n",
       "      <td>0.588983</td>\n",
       "      <td>1</td>\n",
       "      <td>25.0</td>\n",
       "      <td>1</td>\n",
       "      <td>1</td>\n",
       "      <td>...</td>\n",
       "      <td>4</td>\n",
       "      <td>4</td>\n",
       "      <td>4</td>\n",
       "      <td>4.0</td>\n",
       "      <td>4</td>\n",
       "      <td>5.0</td>\n",
       "      <td>1</td>\n",
       "      <td>2</td>\n",
       "      <td>0</td>\n",
       "      <td>0.0</td>\n",
       "    </tr>\n",
       "    <tr>\n",
       "      <th>3</th>\n",
       "      <td>Afghanistan</td>\n",
       "      <td>AFG</td>\n",
       "      <td>South Asia</td>\n",
       "      <td>22647496.0</td>\n",
       "      <td>170778240</td>\n",
       "      <td>2.572345</td>\n",
       "      <td>1</td>\n",
       "      <td>40.0</td>\n",
       "      <td>1</td>\n",
       "      <td>4</td>\n",
       "      <td>...</td>\n",
       "      <td>4</td>\n",
       "      <td>4</td>\n",
       "      <td>4</td>\n",
       "      <td>4.0</td>\n",
       "      <td>4</td>\n",
       "      <td>5.0</td>\n",
       "      <td>2</td>\n",
       "      <td>2</td>\n",
       "      <td>0</td>\n",
       "      <td>0.0</td>\n",
       "    </tr>\n",
       "    <tr>\n",
       "      <th>4</th>\n",
       "      <td>Afghanistan</td>\n",
       "      <td>AFG</td>\n",
       "      <td>South Asia</td>\n",
       "      <td>22647496.0</td>\n",
       "      <td>170712642</td>\n",
       "      <td>0.525471</td>\n",
       "      <td>2</td>\n",
       "      <td>27.0</td>\n",
       "      <td>3</td>\n",
       "      <td>1</td>\n",
       "      <td>...</td>\n",
       "      <td>1</td>\n",
       "      <td>4</td>\n",
       "      <td>4</td>\n",
       "      <td>4.0</td>\n",
       "      <td>4</td>\n",
       "      <td>5.0</td>\n",
       "      <td>1</td>\n",
       "      <td>1</td>\n",
       "      <td>1</td>\n",
       "      <td>0.0</td>\n",
       "    </tr>\n",
       "  </tbody>\n",
       "</table>\n",
       "<p>5 rows × 127 columns</p>\n",
       "</div>"
      ],
      "text/plain": [
       "       economy economycode    regionwb   pop_adult  wpid_random       wgt  \\\n",
       "0  Afghanistan         AFG  South Asia  22647496.0    140343632  0.774286   \n",
       "1  Afghanistan         AFG  South Asia  22647496.0    167823412  0.766367   \n",
       "2  Afghanistan         AFG  South Asia  22647496.0    182483450  0.588983   \n",
       "3  Afghanistan         AFG  South Asia  22647496.0    170778240  2.572345   \n",
       "4  Afghanistan         AFG  South Asia  22647496.0    170712642  0.525471   \n",
       "\n",
       "   female   age  educ  inc_q  ...  receive_wages  receive_transfers  \\\n",
       "0       1  19.0     2      4  ...              4                  4   \n",
       "1       1  40.0     1      5  ...              4                  4   \n",
       "2       1  25.0     1      1  ...              4                  4   \n",
       "3       1  40.0     1      4  ...              4                  4   \n",
       "4       2  27.0     3      1  ...              1                  4   \n",
       "\n",
       "   receive_pension  receive_agriculture  pay_utilities  remittances  \\\n",
       "0                4                  4.0              4          5.0   \n",
       "1                4                  4.0              4          5.0   \n",
       "2                4                  4.0              4          5.0   \n",
       "3                4                  4.0              4          5.0   \n",
       "4                4                  4.0              4          5.0   \n",
       "\n",
       "   mobileowner  internetaccess  anydigpayment  merchantpay_dig  \n",
       "0            1               2              0              0.0  \n",
       "1            1               2              0              0.0  \n",
       "2            1               2              0              0.0  \n",
       "3            2               2              0              0.0  \n",
       "4            1               1              1              0.0  \n",
       "\n",
       "[5 rows x 127 columns]"
      ]
     },
     "execution_count": 19,
     "metadata": {},
     "output_type": "execute_result"
    }
   ],
   "source": [
    "micro_world.head()"
   ]
  },
  {
   "cell_type": "code",
   "execution_count": 20,
   "id": "42b20dcc-acef-45a9-b679-efc1c744ea9f",
   "metadata": {},
   "outputs": [],
   "source": [
    "# Create new variable for merged datasets on economycode\n",
    "merged_data = pd.merge(micro_world, hdi_report, on=\"economycode\", how=\"left\")"
   ]
  },
  {
   "cell_type": "code",
   "execution_count": 21,
   "id": "8f5d49a6-733b-4c2c-ac18-52c1252e3aff",
   "metadata": {},
   "outputs": [
    {
     "data": {
      "text/html": [
       "<div>\n",
       "<style scoped>\n",
       "    .dataframe tbody tr th:only-of-type {\n",
       "        vertical-align: middle;\n",
       "    }\n",
       "\n",
       "    .dataframe tbody tr th {\n",
       "        vertical-align: top;\n",
       "    }\n",
       "\n",
       "    .dataframe thead th {\n",
       "        text-align: right;\n",
       "    }\n",
       "</style>\n",
       "<table border=\"1\" class=\"dataframe\">\n",
       "  <thead>\n",
       "    <tr style=\"text-align: right;\">\n",
       "      <th></th>\n",
       "      <th>economy_x</th>\n",
       "      <th>economycode</th>\n",
       "      <th>regionwb</th>\n",
       "      <th>pop_adult</th>\n",
       "      <th>wpid_random</th>\n",
       "      <th>wgt</th>\n",
       "      <th>female</th>\n",
       "      <th>age</th>\n",
       "      <th>educ</th>\n",
       "      <th>inc_q</th>\n",
       "      <th>...</th>\n",
       "      <th>pay_utilities</th>\n",
       "      <th>remittances</th>\n",
       "      <th>mobileowner</th>\n",
       "      <th>internetaccess</th>\n",
       "      <th>anydigpayment</th>\n",
       "      <th>merchantpay_dig</th>\n",
       "      <th>economy_y</th>\n",
       "      <th>hdi_rank_2021</th>\n",
       "      <th>hdi_2020</th>\n",
       "      <th>hdi_2021</th>\n",
       "    </tr>\n",
       "  </thead>\n",
       "  <tbody>\n",
       "    <tr>\n",
       "      <th>0</th>\n",
       "      <td>Afghanistan</td>\n",
       "      <td>AFG</td>\n",
       "      <td>South Asia</td>\n",
       "      <td>22647496.0</td>\n",
       "      <td>140343632</td>\n",
       "      <td>0.774286</td>\n",
       "      <td>1</td>\n",
       "      <td>19.0</td>\n",
       "      <td>2</td>\n",
       "      <td>4</td>\n",
       "      <td>...</td>\n",
       "      <td>4</td>\n",
       "      <td>5.0</td>\n",
       "      <td>1</td>\n",
       "      <td>2</td>\n",
       "      <td>0</td>\n",
       "      <td>0.0</td>\n",
       "      <td>Afghanistan</td>\n",
       "      <td>180.0</td>\n",
       "      <td>0.483</td>\n",
       "      <td>0.478</td>\n",
       "    </tr>\n",
       "    <tr>\n",
       "      <th>1</th>\n",
       "      <td>Afghanistan</td>\n",
       "      <td>AFG</td>\n",
       "      <td>South Asia</td>\n",
       "      <td>22647496.0</td>\n",
       "      <td>167823412</td>\n",
       "      <td>0.766367</td>\n",
       "      <td>1</td>\n",
       "      <td>40.0</td>\n",
       "      <td>1</td>\n",
       "      <td>5</td>\n",
       "      <td>...</td>\n",
       "      <td>4</td>\n",
       "      <td>5.0</td>\n",
       "      <td>1</td>\n",
       "      <td>2</td>\n",
       "      <td>0</td>\n",
       "      <td>0.0</td>\n",
       "      <td>Afghanistan</td>\n",
       "      <td>180.0</td>\n",
       "      <td>0.483</td>\n",
       "      <td>0.478</td>\n",
       "    </tr>\n",
       "    <tr>\n",
       "      <th>2</th>\n",
       "      <td>Afghanistan</td>\n",
       "      <td>AFG</td>\n",
       "      <td>South Asia</td>\n",
       "      <td>22647496.0</td>\n",
       "      <td>182483450</td>\n",
       "      <td>0.588983</td>\n",
       "      <td>1</td>\n",
       "      <td>25.0</td>\n",
       "      <td>1</td>\n",
       "      <td>1</td>\n",
       "      <td>...</td>\n",
       "      <td>4</td>\n",
       "      <td>5.0</td>\n",
       "      <td>1</td>\n",
       "      <td>2</td>\n",
       "      <td>0</td>\n",
       "      <td>0.0</td>\n",
       "      <td>Afghanistan</td>\n",
       "      <td>180.0</td>\n",
       "      <td>0.483</td>\n",
       "      <td>0.478</td>\n",
       "    </tr>\n",
       "    <tr>\n",
       "      <th>3</th>\n",
       "      <td>Afghanistan</td>\n",
       "      <td>AFG</td>\n",
       "      <td>South Asia</td>\n",
       "      <td>22647496.0</td>\n",
       "      <td>170778240</td>\n",
       "      <td>2.572345</td>\n",
       "      <td>1</td>\n",
       "      <td>40.0</td>\n",
       "      <td>1</td>\n",
       "      <td>4</td>\n",
       "      <td>...</td>\n",
       "      <td>4</td>\n",
       "      <td>5.0</td>\n",
       "      <td>2</td>\n",
       "      <td>2</td>\n",
       "      <td>0</td>\n",
       "      <td>0.0</td>\n",
       "      <td>Afghanistan</td>\n",
       "      <td>180.0</td>\n",
       "      <td>0.483</td>\n",
       "      <td>0.478</td>\n",
       "    </tr>\n",
       "    <tr>\n",
       "      <th>4</th>\n",
       "      <td>Afghanistan</td>\n",
       "      <td>AFG</td>\n",
       "      <td>South Asia</td>\n",
       "      <td>22647496.0</td>\n",
       "      <td>170712642</td>\n",
       "      <td>0.525471</td>\n",
       "      <td>2</td>\n",
       "      <td>27.0</td>\n",
       "      <td>3</td>\n",
       "      <td>1</td>\n",
       "      <td>...</td>\n",
       "      <td>4</td>\n",
       "      <td>5.0</td>\n",
       "      <td>1</td>\n",
       "      <td>1</td>\n",
       "      <td>1</td>\n",
       "      <td>0.0</td>\n",
       "      <td>Afghanistan</td>\n",
       "      <td>180.0</td>\n",
       "      <td>0.483</td>\n",
       "      <td>0.478</td>\n",
       "    </tr>\n",
       "  </tbody>\n",
       "</table>\n",
       "<p>5 rows × 131 columns</p>\n",
       "</div>"
      ],
      "text/plain": [
       "     economy_x economycode    regionwb   pop_adult  wpid_random       wgt  \\\n",
       "0  Afghanistan         AFG  South Asia  22647496.0    140343632  0.774286   \n",
       "1  Afghanistan         AFG  South Asia  22647496.0    167823412  0.766367   \n",
       "2  Afghanistan         AFG  South Asia  22647496.0    182483450  0.588983   \n",
       "3  Afghanistan         AFG  South Asia  22647496.0    170778240  2.572345   \n",
       "4  Afghanistan         AFG  South Asia  22647496.0    170712642  0.525471   \n",
       "\n",
       "   female   age  educ  inc_q  ...  pay_utilities  remittances  mobileowner  \\\n",
       "0       1  19.0     2      4  ...              4          5.0            1   \n",
       "1       1  40.0     1      5  ...              4          5.0            1   \n",
       "2       1  25.0     1      1  ...              4          5.0            1   \n",
       "3       1  40.0     1      4  ...              4          5.0            2   \n",
       "4       2  27.0     3      1  ...              4          5.0            1   \n",
       "\n",
       "   internetaccess  anydigpayment  merchantpay_dig    economy_y  hdi_rank_2021  \\\n",
       "0               2              0              0.0  Afghanistan          180.0   \n",
       "1               2              0              0.0  Afghanistan          180.0   \n",
       "2               2              0              0.0  Afghanistan          180.0   \n",
       "3               2              0              0.0  Afghanistan          180.0   \n",
       "4               1              1              0.0  Afghanistan          180.0   \n",
       "\n",
       "   hdi_2020  hdi_2021  \n",
       "0     0.483     0.478  \n",
       "1     0.483     0.478  \n",
       "2     0.483     0.478  \n",
       "3     0.483     0.478  \n",
       "4     0.483     0.478  \n",
       "\n",
       "[5 rows x 131 columns]"
      ]
     },
     "execution_count": 21,
     "metadata": {},
     "output_type": "execute_result"
    }
   ],
   "source": [
    "merged_data.head()"
   ]
  },
  {
   "cell_type": "code",
   "execution_count": 22,
   "id": "e24e1a3d-731f-4aeb-902c-8b91178d592a",
   "metadata": {},
   "outputs": [
    {
     "data": {
      "text/plain": [
       "(126185, 131)"
      ]
     },
     "execution_count": 22,
     "metadata": {},
     "output_type": "execute_result"
    }
   ],
   "source": [
    "merged_data.shape"
   ]
  },
  {
   "cell_type": "code",
   "execution_count": 23,
   "id": "fdcf908c-8794-4c67-9cb7-e961c448db9f",
   "metadata": {},
   "outputs": [
    {
     "data": {
      "text/plain": [
       "economy_x              0\n",
       "economycode            0\n",
       "regionwb               0\n",
       "pop_adult              0\n",
       "wpid_random            0\n",
       "                   ...  \n",
       "merchantpay_dig    28486\n",
       "economy_y           1000\n",
       "hdi_rank_2021       1000\n",
       "hdi_2020            1000\n",
       "hdi_2021            1000\n",
       "Length: 131, dtype: int64"
      ]
     },
     "execution_count": 23,
     "metadata": {},
     "output_type": "execute_result"
    }
   ],
   "source": [
    "# Check merged data for any NA or null values \n",
    "merged_data.isnull().sum()"
   ]
  },
  {
   "cell_type": "markdown",
   "id": "54445368-ec2f-49c4-a432-41eba7b597cc",
   "metadata": {},
   "source": [
    "### Cleaning and Reformatting the Merged Dataset "
   ]
  },
  {
   "cell_type": "code",
   "execution_count": 24,
   "id": "40cc6191-5670-4c34-8ad6-35a188763c62",
   "metadata": {},
   "outputs": [
    {
     "data": {
      "text/plain": [
       "60367    XKX\n",
       "60368    XKX\n",
       "60369    XKX\n",
       "60370    XKX\n",
       "60371    XKX\n",
       "        ... \n",
       "61362    XKX\n",
       "61363    XKX\n",
       "61364    XKX\n",
       "61365    XKX\n",
       "61366    XKX\n",
       "Name: economycode, Length: 1000, dtype: object"
      ]
     },
     "execution_count": 24,
     "metadata": {},
     "output_type": "execute_result"
    }
   ],
   "source": [
    "# Check for null values in the HDI column(s) of the merged dataset\n",
    "merged_data[merged_data['economy_y'].isnull()]['economycode']"
   ]
  },
  {
   "cell_type": "markdown",
   "id": "7ebdafcd-41e9-4dff-9e78-5a5f19d5a431",
   "metadata": {},
   "source": [
    "HDI dataset does not contain any entries for Kosovo (Economy) - This column will need to be dropped "
   ]
  },
  {
   "cell_type": "code",
   "execution_count": 25,
   "id": "4caac8e1-8340-4919-9564-f7a7dc1d828c",
   "metadata": {},
   "outputs": [],
   "source": [
    "merged_data.dropna(subset=['economy_y'], inplace=True)"
   ]
  },
  {
   "cell_type": "code",
   "execution_count": 26,
   "id": "ed60b285-cb6a-4d14-8890-6f82d05ca705",
   "metadata": {},
   "outputs": [
    {
     "data": {
      "text/plain": [
       "economy_x              0\n",
       "economycode            0\n",
       "regionwb               0\n",
       "pop_adult              0\n",
       "wpid_random            0\n",
       "                   ...  \n",
       "merchantpay_dig    28486\n",
       "economy_y              0\n",
       "hdi_rank_2021          0\n",
       "hdi_2020               0\n",
       "hdi_2021               0\n",
       "Length: 131, dtype: int64"
      ]
     },
     "execution_count": 26,
     "metadata": {},
     "output_type": "execute_result"
    }
   ],
   "source": [
    "merged_data.isnull().sum()"
   ]
  },
  {
   "cell_type": "markdown",
   "id": "67dc08cc-2b2a-49b4-89cd-e79e29b24b14",
   "metadata": {},
   "source": [
    "### Saving Processed Dataset into a new CSV file"
   ]
  },
  {
   "cell_type": "code",
   "execution_count": 27,
   "id": "4e1727c3-c862-4103-8963-3c3dcdf0596f",
   "metadata": {},
   "outputs": [],
   "source": [
    "merged_data.to_csv('incl_finance.csv', index=False)"
   ]
  },
  {
   "cell_type": "code",
   "execution_count": 28,
   "id": "ef80afab-8351-4718-bbe5-f1f7b30c8c96",
   "metadata": {},
   "outputs": [
    {
     "data": {
      "text/html": [
       "<div>\n",
       "<style scoped>\n",
       "    .dataframe tbody tr th:only-of-type {\n",
       "        vertical-align: middle;\n",
       "    }\n",
       "\n",
       "    .dataframe tbody tr th {\n",
       "        vertical-align: top;\n",
       "    }\n",
       "\n",
       "    .dataframe thead th {\n",
       "        text-align: right;\n",
       "    }\n",
       "</style>\n",
       "<table border=\"1\" class=\"dataframe\">\n",
       "  <thead>\n",
       "    <tr style=\"text-align: right;\">\n",
       "      <th></th>\n",
       "      <th>economy_x</th>\n",
       "      <th>economycode</th>\n",
       "      <th>regionwb</th>\n",
       "      <th>pop_adult</th>\n",
       "      <th>wpid_random</th>\n",
       "      <th>wgt</th>\n",
       "      <th>female</th>\n",
       "      <th>age</th>\n",
       "      <th>educ</th>\n",
       "      <th>inc_q</th>\n",
       "      <th>...</th>\n",
       "      <th>pay_utilities</th>\n",
       "      <th>remittances</th>\n",
       "      <th>mobileowner</th>\n",
       "      <th>internetaccess</th>\n",
       "      <th>anydigpayment</th>\n",
       "      <th>merchantpay_dig</th>\n",
       "      <th>economy_y</th>\n",
       "      <th>hdi_rank_2021</th>\n",
       "      <th>hdi_2020</th>\n",
       "      <th>hdi_2021</th>\n",
       "    </tr>\n",
       "  </thead>\n",
       "  <tbody>\n",
       "    <tr>\n",
       "      <th>0</th>\n",
       "      <td>Afghanistan</td>\n",
       "      <td>AFG</td>\n",
       "      <td>South Asia</td>\n",
       "      <td>22647496.0</td>\n",
       "      <td>140343632</td>\n",
       "      <td>0.774286</td>\n",
       "      <td>1</td>\n",
       "      <td>19.0</td>\n",
       "      <td>2</td>\n",
       "      <td>4</td>\n",
       "      <td>...</td>\n",
       "      <td>4</td>\n",
       "      <td>5.0</td>\n",
       "      <td>1</td>\n",
       "      <td>2</td>\n",
       "      <td>0</td>\n",
       "      <td>0.0</td>\n",
       "      <td>Afghanistan</td>\n",
       "      <td>180.0</td>\n",
       "      <td>0.483</td>\n",
       "      <td>0.478</td>\n",
       "    </tr>\n",
       "    <tr>\n",
       "      <th>1</th>\n",
       "      <td>Afghanistan</td>\n",
       "      <td>AFG</td>\n",
       "      <td>South Asia</td>\n",
       "      <td>22647496.0</td>\n",
       "      <td>167823412</td>\n",
       "      <td>0.766367</td>\n",
       "      <td>1</td>\n",
       "      <td>40.0</td>\n",
       "      <td>1</td>\n",
       "      <td>5</td>\n",
       "      <td>...</td>\n",
       "      <td>4</td>\n",
       "      <td>5.0</td>\n",
       "      <td>1</td>\n",
       "      <td>2</td>\n",
       "      <td>0</td>\n",
       "      <td>0.0</td>\n",
       "      <td>Afghanistan</td>\n",
       "      <td>180.0</td>\n",
       "      <td>0.483</td>\n",
       "      <td>0.478</td>\n",
       "    </tr>\n",
       "    <tr>\n",
       "      <th>2</th>\n",
       "      <td>Afghanistan</td>\n",
       "      <td>AFG</td>\n",
       "      <td>South Asia</td>\n",
       "      <td>22647496.0</td>\n",
       "      <td>182483450</td>\n",
       "      <td>0.588983</td>\n",
       "      <td>1</td>\n",
       "      <td>25.0</td>\n",
       "      <td>1</td>\n",
       "      <td>1</td>\n",
       "      <td>...</td>\n",
       "      <td>4</td>\n",
       "      <td>5.0</td>\n",
       "      <td>1</td>\n",
       "      <td>2</td>\n",
       "      <td>0</td>\n",
       "      <td>0.0</td>\n",
       "      <td>Afghanistan</td>\n",
       "      <td>180.0</td>\n",
       "      <td>0.483</td>\n",
       "      <td>0.478</td>\n",
       "    </tr>\n",
       "    <tr>\n",
       "      <th>3</th>\n",
       "      <td>Afghanistan</td>\n",
       "      <td>AFG</td>\n",
       "      <td>South Asia</td>\n",
       "      <td>22647496.0</td>\n",
       "      <td>170778240</td>\n",
       "      <td>2.572345</td>\n",
       "      <td>1</td>\n",
       "      <td>40.0</td>\n",
       "      <td>1</td>\n",
       "      <td>4</td>\n",
       "      <td>...</td>\n",
       "      <td>4</td>\n",
       "      <td>5.0</td>\n",
       "      <td>2</td>\n",
       "      <td>2</td>\n",
       "      <td>0</td>\n",
       "      <td>0.0</td>\n",
       "      <td>Afghanistan</td>\n",
       "      <td>180.0</td>\n",
       "      <td>0.483</td>\n",
       "      <td>0.478</td>\n",
       "    </tr>\n",
       "    <tr>\n",
       "      <th>4</th>\n",
       "      <td>Afghanistan</td>\n",
       "      <td>AFG</td>\n",
       "      <td>South Asia</td>\n",
       "      <td>22647496.0</td>\n",
       "      <td>170712642</td>\n",
       "      <td>0.525471</td>\n",
       "      <td>2</td>\n",
       "      <td>27.0</td>\n",
       "      <td>3</td>\n",
       "      <td>1</td>\n",
       "      <td>...</td>\n",
       "      <td>4</td>\n",
       "      <td>5.0</td>\n",
       "      <td>1</td>\n",
       "      <td>1</td>\n",
       "      <td>1</td>\n",
       "      <td>0.0</td>\n",
       "      <td>Afghanistan</td>\n",
       "      <td>180.0</td>\n",
       "      <td>0.483</td>\n",
       "      <td>0.478</td>\n",
       "    </tr>\n",
       "  </tbody>\n",
       "</table>\n",
       "<p>5 rows × 131 columns</p>\n",
       "</div>"
      ],
      "text/plain": [
       "     economy_x economycode    regionwb   pop_adult  wpid_random       wgt  \\\n",
       "0  Afghanistan         AFG  South Asia  22647496.0    140343632  0.774286   \n",
       "1  Afghanistan         AFG  South Asia  22647496.0    167823412  0.766367   \n",
       "2  Afghanistan         AFG  South Asia  22647496.0    182483450  0.588983   \n",
       "3  Afghanistan         AFG  South Asia  22647496.0    170778240  2.572345   \n",
       "4  Afghanistan         AFG  South Asia  22647496.0    170712642  0.525471   \n",
       "\n",
       "   female   age  educ  inc_q  ...  pay_utilities  remittances  mobileowner  \\\n",
       "0       1  19.0     2      4  ...              4          5.0            1   \n",
       "1       1  40.0     1      5  ...              4          5.0            1   \n",
       "2       1  25.0     1      1  ...              4          5.0            1   \n",
       "3       1  40.0     1      4  ...              4          5.0            2   \n",
       "4       2  27.0     3      1  ...              4          5.0            1   \n",
       "\n",
       "   internetaccess  anydigpayment  merchantpay_dig    economy_y  hdi_rank_2021  \\\n",
       "0               2              0              0.0  Afghanistan          180.0   \n",
       "1               2              0              0.0  Afghanistan          180.0   \n",
       "2               2              0              0.0  Afghanistan          180.0   \n",
       "3               2              0              0.0  Afghanistan          180.0   \n",
       "4               1              1              0.0  Afghanistan          180.0   \n",
       "\n",
       "   hdi_2020  hdi_2021  \n",
       "0     0.483     0.478  \n",
       "1     0.483     0.478  \n",
       "2     0.483     0.478  \n",
       "3     0.483     0.478  \n",
       "4     0.483     0.478  \n",
       "\n",
       "[5 rows x 131 columns]"
      ]
     },
     "execution_count": 28,
     "metadata": {},
     "output_type": "execute_result"
    }
   ],
   "source": [
    "merged_data.head()"
   ]
  },
  {
   "cell_type": "code",
   "execution_count": 29,
   "id": "0a9e8c72-d3c6-47ee-8a3a-9be377975dbf",
   "metadata": {},
   "outputs": [],
   "source": [
    "# Reload new CSV file - manual edits made to remove extraenous columns and columns with incomplete datasets that cannot be filled with NA values\n",
    "incl_finance = pd.read_csv(r'C:\\Users\\yaksh\\OneDrive\\GA_DataScience_Course\\Final_Project_YB\\incl_finance_v2.csv', encoding='ISO-8859-1')"
   ]
  },
  {
   "cell_type": "code",
   "execution_count": 30,
   "id": "68ad6ddb-5ddc-424f-b271-fc497c2b77a4",
   "metadata": {},
   "outputs": [
    {
     "data": {
      "text/html": [
       "<div>\n",
       "<style scoped>\n",
       "    .dataframe tbody tr th:only-of-type {\n",
       "        vertical-align: middle;\n",
       "    }\n",
       "\n",
       "    .dataframe tbody tr th {\n",
       "        vertical-align: top;\n",
       "    }\n",
       "\n",
       "    .dataframe thead th {\n",
       "        text-align: right;\n",
       "    }\n",
       "</style>\n",
       "<table border=\"1\" class=\"dataframe\">\n",
       "  <thead>\n",
       "    <tr style=\"text-align: right;\">\n",
       "      <th></th>\n",
       "      <th>economy</th>\n",
       "      <th>economycode</th>\n",
       "      <th>regionwb</th>\n",
       "      <th>educ</th>\n",
       "      <th>inc_q</th>\n",
       "      <th>emp_in</th>\n",
       "      <th>urbanicity_f2f</th>\n",
       "      <th>account</th>\n",
       "      <th>account_fin</th>\n",
       "      <th>account_mob</th>\n",
       "      <th>...</th>\n",
       "      <th>fin43a</th>\n",
       "      <th>fin43b</th>\n",
       "      <th>fin43d</th>\n",
       "      <th>fin43e</th>\n",
       "      <th>fin44a</th>\n",
       "      <th>fin44b</th>\n",
       "      <th>fin44c</th>\n",
       "      <th>fin44d</th>\n",
       "      <th>fin45</th>\n",
       "      <th>fin45_1</th>\n",
       "    </tr>\n",
       "  </thead>\n",
       "  <tbody>\n",
       "    <tr>\n",
       "      <th>0</th>\n",
       "      <td>Afghanistan</td>\n",
       "      <td>AFG</td>\n",
       "      <td>South Asia</td>\n",
       "      <td>2</td>\n",
       "      <td>4</td>\n",
       "      <td>2.0</td>\n",
       "      <td>1.0</td>\n",
       "      <td>0</td>\n",
       "      <td>0</td>\n",
       "      <td>0.0</td>\n",
       "      <td>...</td>\n",
       "      <td>NaN</td>\n",
       "      <td>NaN</td>\n",
       "      <td>NaN</td>\n",
       "      <td>NaN</td>\n",
       "      <td>3</td>\n",
       "      <td>2</td>\n",
       "      <td>2</td>\n",
       "      <td>1</td>\n",
       "      <td>2.0</td>\n",
       "      <td>2.0</td>\n",
       "    </tr>\n",
       "    <tr>\n",
       "      <th>1</th>\n",
       "      <td>Afghanistan</td>\n",
       "      <td>AFG</td>\n",
       "      <td>South Asia</td>\n",
       "      <td>1</td>\n",
       "      <td>5</td>\n",
       "      <td>2.0</td>\n",
       "      <td>1.0</td>\n",
       "      <td>0</td>\n",
       "      <td>0</td>\n",
       "      <td>0.0</td>\n",
       "      <td>...</td>\n",
       "      <td>NaN</td>\n",
       "      <td>NaN</td>\n",
       "      <td>NaN</td>\n",
       "      <td>NaN</td>\n",
       "      <td>2</td>\n",
       "      <td>1</td>\n",
       "      <td>1</td>\n",
       "      <td>1</td>\n",
       "      <td>2.0</td>\n",
       "      <td>1.0</td>\n",
       "    </tr>\n",
       "    <tr>\n",
       "      <th>2</th>\n",
       "      <td>Afghanistan</td>\n",
       "      <td>AFG</td>\n",
       "      <td>South Asia</td>\n",
       "      <td>1</td>\n",
       "      <td>1</td>\n",
       "      <td>2.0</td>\n",
       "      <td>2.0</td>\n",
       "      <td>0</td>\n",
       "      <td>0</td>\n",
       "      <td>0.0</td>\n",
       "      <td>...</td>\n",
       "      <td>NaN</td>\n",
       "      <td>NaN</td>\n",
       "      <td>NaN</td>\n",
       "      <td>NaN</td>\n",
       "      <td>1</td>\n",
       "      <td>1</td>\n",
       "      <td>1</td>\n",
       "      <td>1</td>\n",
       "      <td>2.0</td>\n",
       "      <td>1.0</td>\n",
       "    </tr>\n",
       "    <tr>\n",
       "      <th>3</th>\n",
       "      <td>Afghanistan</td>\n",
       "      <td>AFG</td>\n",
       "      <td>South Asia</td>\n",
       "      <td>1</td>\n",
       "      <td>4</td>\n",
       "      <td>2.0</td>\n",
       "      <td>2.0</td>\n",
       "      <td>0</td>\n",
       "      <td>0</td>\n",
       "      <td>0.0</td>\n",
       "      <td>...</td>\n",
       "      <td>NaN</td>\n",
       "      <td>NaN</td>\n",
       "      <td>NaN</td>\n",
       "      <td>NaN</td>\n",
       "      <td>3</td>\n",
       "      <td>3</td>\n",
       "      <td>2</td>\n",
       "      <td>2</td>\n",
       "      <td>4.0</td>\n",
       "      <td>3.0</td>\n",
       "    </tr>\n",
       "    <tr>\n",
       "      <th>4</th>\n",
       "      <td>Afghanistan</td>\n",
       "      <td>AFG</td>\n",
       "      <td>South Asia</td>\n",
       "      <td>3</td>\n",
       "      <td>1</td>\n",
       "      <td>1.0</td>\n",
       "      <td>1.0</td>\n",
       "      <td>1</td>\n",
       "      <td>1</td>\n",
       "      <td>0.0</td>\n",
       "      <td>...</td>\n",
       "      <td>NaN</td>\n",
       "      <td>NaN</td>\n",
       "      <td>NaN</td>\n",
       "      <td>NaN</td>\n",
       "      <td>1</td>\n",
       "      <td>1</td>\n",
       "      <td>2</td>\n",
       "      <td>2</td>\n",
       "      <td>2.0</td>\n",
       "      <td>1.0</td>\n",
       "    </tr>\n",
       "  </tbody>\n",
       "</table>\n",
       "<p>5 rows × 122 columns</p>\n",
       "</div>"
      ],
      "text/plain": [
       "       economy economycode    regionwb  educ  inc_q  emp_in  urbanicity_f2f  \\\n",
       "0  Afghanistan         AFG  South Asia     2      4     2.0             1.0   \n",
       "1  Afghanistan         AFG  South Asia     1      5     2.0             1.0   \n",
       "2  Afghanistan         AFG  South Asia     1      1     2.0             2.0   \n",
       "3  Afghanistan         AFG  South Asia     1      4     2.0             2.0   \n",
       "4  Afghanistan         AFG  South Asia     3      1     1.0             1.0   \n",
       "\n",
       "   account  account_fin  account_mob  ...  fin43a  fin43b  fin43d  fin43e  \\\n",
       "0        0            0          0.0  ...     NaN     NaN     NaN     NaN   \n",
       "1        0            0          0.0  ...     NaN     NaN     NaN     NaN   \n",
       "2        0            0          0.0  ...     NaN     NaN     NaN     NaN   \n",
       "3        0            0          0.0  ...     NaN     NaN     NaN     NaN   \n",
       "4        1            1          0.0  ...     NaN     NaN     NaN     NaN   \n",
       "\n",
       "   fin44a  fin44b  fin44c  fin44d  fin45  fin45_1  \n",
       "0       3       2       2       1    2.0      2.0  \n",
       "1       2       1       1       1    2.0      1.0  \n",
       "2       1       1       1       1    2.0      1.0  \n",
       "3       3       3       2       2    4.0      3.0  \n",
       "4       1       1       2       2    2.0      1.0  \n",
       "\n",
       "[5 rows x 122 columns]"
      ]
     },
     "execution_count": 30,
     "metadata": {},
     "output_type": "execute_result"
    }
   ],
   "source": [
    "incl_finance.head()"
   ]
  },
  {
   "cell_type": "code",
   "execution_count": 31,
   "id": "d106ac40-d5f3-4bca-b610-c10bf978ab6b",
   "metadata": {},
   "outputs": [
    {
     "data": {
      "text/plain": [
       "(125185, 122)"
      ]
     },
     "execution_count": 31,
     "metadata": {},
     "output_type": "execute_result"
    }
   ],
   "source": [
    "incl_finance.shape"
   ]
  },
  {
   "cell_type": "code",
   "execution_count": 32,
   "id": "2dcd6fca-8f69-4929-b617-d7f9e94b00f9",
   "metadata": {},
   "outputs": [],
   "source": [
    "# We will remove China from the dataset since China's survey was different from the rest of the respondents\n",
    "## China also has missing values for certain \n",
    "incl_finance = incl_finance[incl_finance['economy'] != 'China']"
   ]
  },
  {
   "cell_type": "code",
   "execution_count": 33,
   "id": "ba212547-cb20-489d-b49f-82a083082011",
   "metadata": {},
   "outputs": [
    {
     "data": {
      "text/plain": [
       "(121703, 122)"
      ]
     },
     "execution_count": 33,
     "metadata": {},
     "output_type": "execute_result"
    }
   ],
   "source": [
    "incl_finance.shape"
   ]
  },
  {
   "cell_type": "code",
   "execution_count": 34,
   "id": "6b58c17d-800b-4730-9b5d-c6ee592f3870",
   "metadata": {},
   "outputs": [
    {
     "data": {
      "text/plain": [
       "India                 2989\n",
       "Russian Federation    2006\n",
       "Indonesia             1062\n",
       "Saudi Arabia          1019\n",
       "Lebanon               1019\n",
       "                      ... \n",
       "Liberia                977\n",
       "Mozambique             952\n",
       "Dominican Republic     952\n",
       "Iceland                500\n",
       "Jamaica                454\n",
       "Name: economy, Length: 120, dtype: int64"
      ]
     },
     "execution_count": 34,
     "metadata": {},
     "output_type": "execute_result"
    }
   ],
   "source": [
    "incl_finance.economy.value_counts()"
   ]
  },
  {
   "cell_type": "markdown",
   "id": "38de517b-d5d5-4627-bf09-888408e90c07",
   "metadata": {},
   "source": [
    "## Define Feature Columns and Run Train-Test-Split "
   ]
  },
  {
   "cell_type": "markdown",
   "id": "f52daca9-4c01-4223-8cf2-95a8b4e55286",
   "metadata": {},
   "source": [
    "### Step 1: Estimate Feature Importance for Model Selection"
   ]
  },
  {
   "cell_type": "code",
   "execution_count": 35,
   "id": "4669099a-e1b4-4f0e-a118-38dd9179bd5b",
   "metadata": {},
   "outputs": [],
   "source": [
    "# Identifying feature columns to select\n",
    "feature_cols = ['educ', 'emp_in', 'mobileowner','inc_q', 'saved', 'borrowed', 'receive_wages', 'receive_transfers', 'receive_pension', 'pay_utilities', 'internetaccess', 'hdi_rank_2021', 'hdi_2021']\n",
    "\n",
    "X = incl_finance[feature_cols]\n",
    "y = incl_finance['account']"
   ]
  },
  {
   "cell_type": "code",
   "execution_count": 36,
   "id": "6cbae252-07a6-42f3-be34-0f9a6a3ef349",
   "metadata": {},
   "outputs": [
    {
     "name": "stdout",
     "output_type": "stream",
     "text": [
      "              feature  importance\n",
      "11      hdi_rank_2021    0.167699\n",
      "9       pay_utilities    0.156274\n",
      "12           hdi_2021    0.151657\n",
      "6       receive_wages    0.135086\n",
      "7   receive_transfers    0.075125\n",
      "3               inc_q    0.072168\n",
      "4               saved    0.047034\n",
      "8     receive_pension    0.044881\n",
      "0                educ    0.043100\n",
      "10     internetaccess    0.041965\n",
      "2         mobileowner    0.025179\n",
      "1              emp_in    0.019943\n",
      "5            borrowed    0.019888\n"
     ]
    }
   ],
   "source": [
    "# Instantiate random forest classifier\n",
    "rf = RandomForestClassifier()\n",
    "\n",
    "# Fit the model\n",
    "rf.fit(X, y)\n",
    "\n",
    "# Get feature importances\n",
    "importance = rf.feature_importances_\n",
    "\n",
    "# Create a DataFrame to store feature importances\n",
    "importance_df = pd.DataFrame({'feature': feature_cols, 'importance': importance})\n",
    "\n",
    "# Sort the DataFrame by importance values in descending order\n",
    "importance_df = importance_df.sort_values('importance', ascending=False)\n",
    "\n",
    "# Print the feature importances\n",
    "print(importance_df)\n"
   ]
  },
  {
   "cell_type": "markdown",
   "id": "707a3160-1d13-4466-a9d6-271753a23e0c",
   "metadata": {},
   "source": [
    "From feature importance test, we can eliminate 'emp_in' and 'borrowed' as feature columns due to low importance scores"
   ]
  },
  {
   "cell_type": "markdown",
   "id": "6183ec5b-bacc-4b56-94df-3cc70cbd62af",
   "metadata": {},
   "source": [
    "### Step 2: Select the Feature Columns for Model Ingestion\n",
    "\n",
    "Select the predictor variables and target variable from the dataframe."
   ]
  },
  {
   "cell_type": "code",
   "execution_count": 37,
   "id": "94f20bc3-ec93-49e6-ae70-046d4aa21dec",
   "metadata": {},
   "outputs": [],
   "source": [
    "# Define predictors and target variable for account\n",
    "feature_cols = ['educ', 'mobileowner','inc_q', 'saved', 'receive_wages', 'receive_transfers', 'receive_pension', 'pay_utilities', 'internetaccess', 'hdi_rank_2021', 'hdi_2021']\n",
    "\n",
    "X = incl_finance[feature_cols]\n",
    "y = incl_finance['account']"
   ]
  },
  {
   "cell_type": "code",
   "execution_count": 38,
   "id": "ff1ae212-6af1-4d2d-a2c3-e7198685a9e0",
   "metadata": {},
   "outputs": [
    {
     "data": {
      "text/plain": [
       "<Axes: >"
      ]
     },
     "execution_count": 38,
     "metadata": {},
     "output_type": "execute_result"
    },
    {
     "data": {
      "image/png": "[encoded data removed]",
      "text/plain": [
       "<Figure size 640x480 with 2 Axes>"
      ]
     },
     "metadata": {},
     "output_type": "display_data"
    }
   ],
   "source": [
    "sns.heatmap(X.corr())"
   ]
  },
  {
   "cell_type": "code",
   "execution_count": 39,
   "id": "61e4cd43-a9a7-4905-a044-4663b64784ea",
   "metadata": {},
   "outputs": [
    {
     "data": {
      "image/png": "[encoded data removed]",
      "text/plain": [
       "<Figure size 1000x1000 with 2 Axes>"
      ]
     },
     "metadata": {},
     "output_type": "display_data"
    }
   ],
   "source": [
    "plt.figure(figsize=(10,10))\n",
    "sns.heatmap(X.corr(), annot=True, cmap='coolwarm')\n",
    "plt.show()"
   ]
  },
  {
   "cell_type": "markdown",
   "id": "3a405f71-0c19-4412-9747-4446ccbe3226",
   "metadata": {},
   "source": [
    "### Step 3: Split the Data\n",
    "\n",
    "Split your data into training and test datasets. This will allow you to test the performance of your model on unseen data."
   ]
  },
  {
   "cell_type": "code",
   "execution_count": 40,
   "id": "bef1bff1-ff8d-4b19-ad42-f7b52c6c6f98",
   "metadata": {},
   "outputs": [],
   "source": [
    "X_train, X_test, y_train, y_test = train_test_split(X, y, test_size=0.2, random_state=42)"
   ]
  },
  {
   "cell_type": "markdown",
   "id": "71f758b4-f747-48cd-ac2f-e0df721c4a2e",
   "metadata": {},
   "source": [
    "### Step 4: Instantiate Pipelines to Preprocess Ordinal and Continuous Variables\n",
    "\n",
    "Apply necessary transformations before fitting the model to ensure consistency when dealing with Ordinal vs. Continuous variables"
   ]
  },
  {
   "cell_type": "code",
   "execution_count": 41,
   "id": "92711ac9-0f51-43ed-bfa9-de464aea505e",
   "metadata": {},
   "outputs": [],
   "source": [
    "from sklearn.pipeline import Pipeline\n",
    "from sklearn.compose import ColumnTransformer\n",
    "from sklearn.preprocessing import OrdinalEncoder, StandardScaler, OneHotEncoder\n",
    "\n",
    "# Define the preprocessing steps for different types of columns\n",
    "preprocessor = ColumnTransformer(\n",
    "    transformers=[\n",
    "        ('categorical', OneHotEncoder(), ['mobileowner', 'receive_wages', 'receive_transfers', 'receive_pension', 'saved', 'pay_utilities', 'internetaccess']),\n",
    "        ('ordinal', OrdinalEncoder(), ['educ', 'inc_q', 'hdi_rank_2021']),\n",
    "        ('continuous', StandardScaler(), ['hdi_2021'])\n",
    "    ])"
   ]
  },
  {
   "cell_type": "markdown",
   "id": "d933f76e-c8b6-4790-bc89-e9976d79702a",
   "metadata": {},
   "source": [
    "## Build and Test the Models"
   ]
  },
  {
   "cell_type": "markdown",
   "id": "0b38d1ac-d31f-408a-9007-301e824fa0a1",
   "metadata": {},
   "source": [
    "### Logistic Regression\n",
    "\n",
    "Initialize the LogisticRegression and train it on your training data."
   ]
  },
  {
   "cell_type": "code",
   "execution_count": 42,
   "id": "8eedb001-6e6e-4f18-9cb5-f29b1a14e4ed",
   "metadata": {},
   "outputs": [
    {
     "data": {
      "text/html": [
       "<style>#sk-container-id-1 {color: black;background-color: white;}#sk-container-id-1 pre{padding: 0;}#sk-container-id-1 div.sk-toggleable {background-color: white;}#sk-container-id-1 label.sk-toggleable__label {cursor: pointer;display: block;width: 100%;margin-bottom: 0;padding: 0.3em;box-sizing: border-box;text-align: center;}#sk-container-id-1 label.sk-toggleable__label-arrow:before {content: \"▸\";float: left;margin-right: 0.25em;color: #696969;}#sk-container-id-1 label.sk-toggleable__label-arrow:hover:before {color: black;}#sk-container-id-1 div.sk-estimator:hover label.sk-toggleable__label-arrow:before {color: black;}#sk-container-id-1 div.sk-toggleable__content {max-height: 0;max-width: 0;overflow: hidden;text-align: left;background-color: #f0f8ff;}#sk-container-id-1 div.sk-toggleable__content pre {margin: 0.2em;color: black;border-radius: 0.25em;background-color: #f0f8ff;}#sk-container-id-1 input.sk-toggleable__control:checked~div.sk-toggleable__content {max-height: 200px;max-width: 100%;overflow: auto;}#sk-container-id-1 input.sk-toggleable__control:checked~label.sk-toggleable__label-arrow:before {content: \"▾\";}#sk-container-id-1 div.sk-estimator input.sk-toggleable__control:checked~label.sk-toggleable__label {background-color: #d4ebff;}#sk-container-id-1 div.sk-label input.sk-toggleable__control:checked~label.sk-toggleable__label {background-color: #d4ebff;}#sk-container-id-1 input.sk-hidden--visually {border: 0;clip: rect(1px 1px 1px 1px);clip: rect(1px, 1px, 1px, 1px);height: 1px;margin: -1px;overflow: hidden;padding: 0;position: absolute;width: 1px;}#sk-container-id-1 div.sk-estimator {font-family: monospace;background-color: #f0f8ff;border: 1px dotted black;border-radius: 0.25em;box-sizing: border-box;margin-bottom: 0.5em;}#sk-container-id-1 div.sk-estimator:hover {background-color: #d4ebff;}#sk-container-id-1 div.sk-parallel-item::after {content: \"\";width: 100%;border-bottom: 1px solid gray;flex-grow: 1;}#sk-container-id-1 div.sk-label:hover label.sk-toggleable__label {background-color: #d4ebff;}#sk-container-id-1 div.sk-serial::before {content: \"\";position: absolute;border-left: 1px solid gray;box-sizing: border-box;top: 0;bottom: 0;left: 50%;z-index: 0;}#sk-container-id-1 div.sk-serial {display: flex;flex-direction: column;align-items: center;background-color: white;padding-right: 0.2em;padding-left: 0.2em;position: relative;}#sk-container-id-1 div.sk-item {position: relative;z-index: 1;}#sk-container-id-1 div.sk-parallel {display: flex;align-items: stretch;justify-content: center;background-color: white;position: relative;}#sk-container-id-1 div.sk-item::before, #sk-container-id-1 div.sk-parallel-item::before {content: \"\";position: absolute;border-left: 1px solid gray;box-sizing: border-box;top: 0;bottom: 0;left: 50%;z-index: -1;}#sk-container-id-1 div.sk-parallel-item {display: flex;flex-direction: column;z-index: 1;position: relative;background-color: white;}#sk-container-id-1 div.sk-parallel-item:first-child::after {align-self: flex-end;width: 50%;}#sk-container-id-1 div.sk-parallel-item:last-child::after {align-self: flex-start;width: 50%;}#sk-container-id-1 div.sk-parallel-item:only-child::after {width: 0;}#sk-container-id-1 div.sk-dashed-wrapped {border: 1px dashed gray;margin: 0 0.4em 0.5em 0.4em;box-sizing: border-box;padding-bottom: 0.4em;background-color: white;}#sk-container-id-1 div.sk-label label {font-family: monospace;font-weight: bold;display: inline-block;line-height: 1.2em;}#sk-container-id-1 div.sk-label-container {text-align: center;}#sk-container-id-1 div.sk-container {/* jupyter's `normalize.less` sets `[hidden] { display: none; }` but bootstrap.min.css set `[hidden] { display: none !important; }` so we also need the `!important` here to be able to override the default hidden behavior on the sphinx rendered scikit-learn.org. See: https://github.com/scikit-learn/scikit-learn/issues/21755 */display: inline-block !important;position: relative;}#sk-container-id-1 div.sk-text-repr-fallback {display: none;}</style><div id=\"sk-container-id-1\" class=\"sk-top-container\"><div class=\"sk-text-repr-fallback\"><pre>Pipeline(steps=[(&#x27;preprocessor&#x27;,\n",
       "                 ColumnTransformer(transformers=[(&#x27;categorical&#x27;,\n",
       "                                                  OneHotEncoder(),\n",
       "                                                  [&#x27;mobileowner&#x27;,\n",
       "                                                   &#x27;receive_wages&#x27;,\n",
       "                                                   &#x27;receive_transfers&#x27;,\n",
       "                                                   &#x27;receive_pension&#x27;, &#x27;saved&#x27;,\n",
       "                                                   &#x27;pay_utilities&#x27;,\n",
       "                                                   &#x27;internetaccess&#x27;]),\n",
       "                                                 (&#x27;ordinal&#x27;, OrdinalEncoder(),\n",
       "                                                  [&#x27;educ&#x27;, &#x27;inc_q&#x27;,\n",
       "                                                   &#x27;hdi_rank_2021&#x27;]),\n",
       "                                                 (&#x27;continuous&#x27;,\n",
       "                                                  StandardScaler(),\n",
       "                                                  [&#x27;hdi_2021&#x27;])])),\n",
       "                (&#x27;logreg&#x27;, LogisticRegression(max_iter=1000))])</pre><b>In a Jupyter environment, please rerun this cell to show the HTML representation or trust the notebook. <br />On GitHub, the HTML representation is unable to render, please try loading this page with nbviewer.org.</b></div><div class=\"sk-container\" hidden><div class=\"sk-item sk-dashed-wrapped\"><div class=\"sk-label-container\"><div class=\"sk-label sk-toggleable\"><input class=\"sk-toggleable__control sk-hidden--visually\" id=\"sk-estimator-id-1\" type=\"checkbox\" ><label for=\"sk-estimator-id-1\" class=\"sk-toggleable__label sk-toggleable__label-arrow\">Pipeline</label><div class=\"sk-toggleable__content\"><pre>Pipeline(steps=[(&#x27;preprocessor&#x27;,\n",
       "                 ColumnTransformer(transformers=[(&#x27;categorical&#x27;,\n",
       "                                                  OneHotEncoder(),\n",
       "                                                  [&#x27;mobileowner&#x27;,\n",
       "                                                   &#x27;receive_wages&#x27;,\n",
       "                                                   &#x27;receive_transfers&#x27;,\n",
       "                                                   &#x27;receive_pension&#x27;, &#x27;saved&#x27;,\n",
       "                                                   &#x27;pay_utilities&#x27;,\n",
       "                                                   &#x27;internetaccess&#x27;]),\n",
       "                                                 (&#x27;ordinal&#x27;, OrdinalEncoder(),\n",
       "                                                  [&#x27;educ&#x27;, &#x27;inc_q&#x27;,\n",
       "                                                   &#x27;hdi_rank_2021&#x27;]),\n",
       "                                                 (&#x27;continuous&#x27;,\n",
       "                                                  StandardScaler(),\n",
       "                                                  [&#x27;hdi_2021&#x27;])])),\n",
       "                (&#x27;logreg&#x27;, LogisticRegression(max_iter=1000))])</pre></div></div></div><div class=\"sk-serial\"><div class=\"sk-item sk-dashed-wrapped\"><div class=\"sk-label-container\"><div class=\"sk-label sk-toggleable\"><input class=\"sk-toggleable__control sk-hidden--visually\" id=\"sk-estimator-id-2\" type=\"checkbox\" ><label for=\"sk-estimator-id-2\" class=\"sk-toggleable__label sk-toggleable__label-arrow\">preprocessor: ColumnTransformer</label><div class=\"sk-toggleable__content\"><pre>ColumnTransformer(transformers=[(&#x27;categorical&#x27;, OneHotEncoder(),\n",
       "                                 [&#x27;mobileowner&#x27;, &#x27;receive_wages&#x27;,\n",
       "                                  &#x27;receive_transfers&#x27;, &#x27;receive_pension&#x27;,\n",
       "                                  &#x27;saved&#x27;, &#x27;pay_utilities&#x27;, &#x27;internetaccess&#x27;]),\n",
       "                                (&#x27;ordinal&#x27;, OrdinalEncoder(),\n",
       "                                 [&#x27;educ&#x27;, &#x27;inc_q&#x27;, &#x27;hdi_rank_2021&#x27;]),\n",
       "                                (&#x27;continuous&#x27;, StandardScaler(), [&#x27;hdi_2021&#x27;])])</pre></div></div></div><div class=\"sk-parallel\"><div class=\"sk-parallel-item\"><div class=\"sk-item\"><div class=\"sk-label-container\"><div class=\"sk-label sk-toggleable\"><input class=\"sk-toggleable__control sk-hidden--visually\" id=\"sk-estimator-id-3\" type=\"checkbox\" ><label for=\"sk-estimator-id-3\" class=\"sk-toggleable__label sk-toggleable__label-arrow\">categorical</label><div class=\"sk-toggleable__content\"><pre>[&#x27;mobileowner&#x27;, &#x27;receive_wages&#x27;, &#x27;receive_transfers&#x27;, &#x27;receive_pension&#x27;, &#x27;saved&#x27;, &#x27;pay_utilities&#x27;, &#x27;internetaccess&#x27;]</pre></div></div></div><div class=\"sk-serial\"><div class=\"sk-item\"><div class=\"sk-estimator sk-toggleable\"><input class=\"sk-toggleable__control sk-hidden--visually\" id=\"sk-estimator-id-4\" type=\"checkbox\" ><label for=\"sk-estimator-id-4\" class=\"sk-toggleable__label sk-toggleable__label-arrow\">OneHotEncoder</label><div class=\"sk-toggleable__content\"><pre>OneHotEncoder()</pre></div></div></div></div></div></div><div class=\"sk-parallel-item\"><div class=\"sk-item\"><div class=\"sk-label-container\"><div class=\"sk-label sk-toggleable\"><input class=\"sk-toggleable__control sk-hidden--visually\" id=\"sk-estimator-id-5\" type=\"checkbox\" ><label for=\"sk-estimator-id-5\" class=\"sk-toggleable__label sk-toggleable__label-arrow\">ordinal</label><div class=\"sk-toggleable__content\"><pre>[&#x27;educ&#x27;, &#x27;inc_q&#x27;, &#x27;hdi_rank_2021&#x27;]</pre></div></div></div><div class=\"sk-serial\"><div class=\"sk-item\"><div class=\"sk-estimator sk-toggleable\"><input class=\"sk-toggleable__control sk-hidden--visually\" id=\"sk-estimator-id-6\" type=\"checkbox\" ><label for=\"sk-estimator-id-6\" class=\"sk-toggleable__label sk-toggleable__label-arrow\">OrdinalEncoder</label><div class=\"sk-toggleable__content\"><pre>OrdinalEncoder()</pre></div></div></div></div></div></div><div class=\"sk-parallel-item\"><div class=\"sk-item\"><div class=\"sk-label-container\"><div class=\"sk-label sk-toggleable\"><input class=\"sk-toggleable__control sk-hidden--visually\" id=\"sk-estimator-id-7\" type=\"checkbox\" ><label for=\"sk-estimator-id-7\" class=\"sk-toggleable__label sk-toggleable__label-arrow\">continuous</label><div class=\"sk-toggleable__content\"><pre>[&#x27;hdi_2021&#x27;]</pre></div></div></div><div class=\"sk-serial\"><div class=\"sk-item\"><div class=\"sk-estimator sk-toggleable\"><input class=\"sk-toggleable__control sk-hidden--visually\" id=\"sk-estimator-id-8\" type=\"checkbox\" ><label for=\"sk-estimator-id-8\" class=\"sk-toggleable__label sk-toggleable__label-arrow\">StandardScaler</label><div class=\"sk-toggleable__content\"><pre>StandardScaler()</pre></div></div></div></div></div></div></div></div><div class=\"sk-item\"><div class=\"sk-estimator sk-toggleable\"><input class=\"sk-toggleable__control sk-hidden--visually\" id=\"sk-estimator-id-9\" type=\"checkbox\" ><label for=\"sk-estimator-id-9\" class=\"sk-toggleable__label sk-toggleable__label-arrow\">LogisticRegression</label><div class=\"sk-toggleable__content\"><pre>LogisticRegression(max_iter=1000)</pre></div></div></div></div></div></div></div>"
      ],
      "text/plain": [
       "Pipeline(steps=[('preprocessor',\n",
       "                 ColumnTransformer(transformers=[('categorical',\n",
       "                                                  OneHotEncoder(),\n",
       "                                                  ['mobileowner',\n",
       "                                                   'receive_wages',\n",
       "                                                   'receive_transfers',\n",
       "                                                   'receive_pension', 'saved',\n",
       "                                                   'pay_utilities',\n",
       "                                                   'internetaccess']),\n",
       "                                                 ('ordinal', OrdinalEncoder(),\n",
       "                                                  ['educ', 'inc_q',\n",
       "                                                   'hdi_rank_2021']),\n",
       "                                                 ('continuous',\n",
       "                                                  StandardScaler(),\n",
       "                                                  ['hdi_2021'])])),\n",
       "                ('logreg', LogisticRegression(max_iter=1000))])"
      ]
     },
     "execution_count": 42,
     "metadata": {},
     "output_type": "execute_result"
    }
   ],
   "source": [
    "# instantiate model\n",
    "logreg_pipeline = Pipeline(steps=[('preprocessor', preprocessor),\n",
    "                                  ('logreg', LogisticRegression(max_iter=1000))]) # Increase max_iterations value\n",
    "\n",
    "# fit model\n",
    "logreg_pipeline.fit(X_train, y_train)"
   ]
  },
  {
   "cell_type": "code",
   "execution_count": 43,
   "id": "ad3a6c71-8806-41b8-bd5a-20db23ed9789",
   "metadata": {},
   "outputs": [
    {
     "name": "stdout",
     "output_type": "stream",
     "text": [
      "['__abstractmethods__', '__annotations__', '__class__', '__delattr__', '__dict__', '__dir__', '__doc__', '__eq__', '__format__', '__ge__', '__getattribute__', '__getstate__', '__gt__', '__hash__', '__init__', '__init_subclass__', '__le__', '__lt__', '__module__', '__ne__', '__new__', '__reduce__', '__reduce_ex__', '__repr__', '__setattr__', '__setstate__', '__sizeof__', '__str__', '__subclasshook__', '__weakref__', '_abc_impl', '_add_prefix_for_feature_names_out', '_check_feature_names', '_check_n_features', '_columns', '_fit_transform', '_get_feature_name_out_for_transformer', '_get_param_names', '_get_params', '_get_tags', '_hstack', '_iter', '_log_message', '_more_tags', '_n_features', '_name_to_fitted_passthrough', '_record_output_indices', '_remainder', '_replace_estimator', '_repr_html_', '_repr_html_inner', '_repr_mimebundle_', '_required_parameters', '_set_params', '_sk_visual_block_', '_sklearn_auto_wrap_output_keys', '_transformer_to_input_indices', '_transformers', '_update_fitted_transformers', '_validate_column_callables', '_validate_data', '_validate_names', '_validate_output', '_validate_params', '_validate_remainder', '_validate_transformers', 'feature_names_in_', 'fit', 'fit_transform', 'get_feature_names_out', 'get_params', 'n_features_in_', 'n_jobs', 'named_transformers_', 'output_indices_', 'remainder', 'set_output', 'set_params', 'sparse_output_', 'sparse_threshold', 'transform', 'transformer_weights', 'transformers', 'transformers_', 'verbose', 'verbose_feature_names_out']\n"
     ]
    }
   ],
   "source": [
    "print(dir(logreg_pipeline.named_steps['preprocessor']))"
   ]
  },
  {
   "cell_type": "code",
   "execution_count": 44,
   "id": "2a26fc4a-8af5-40da-81a5-eccc22fc0ae3",
   "metadata": {},
   "outputs": [
    {
     "data": {
      "text/plain": [
       "array(['categorical__mobileowner_1', 'categorical__mobileowner_2',\n",
       "       'categorical__mobileowner_3', 'categorical__mobileowner_4',\n",
       "       'categorical__receive_wages_1', 'categorical__receive_wages_2',\n",
       "       'categorical__receive_wages_3', 'categorical__receive_wages_4',\n",
       "       'categorical__receive_wages_5', 'categorical__receive_transfers_1',\n",
       "       'categorical__receive_transfers_2',\n",
       "       'categorical__receive_transfers_3',\n",
       "       'categorical__receive_transfers_4',\n",
       "       'categorical__receive_transfers_5',\n",
       "       'categorical__receive_pension_1', 'categorical__receive_pension_2',\n",
       "       'categorical__receive_pension_3', 'categorical__receive_pension_4',\n",
       "       'categorical__receive_pension_5', 'categorical__saved_0',\n",
       "       'categorical__saved_1', 'categorical__pay_utilities_1',\n",
       "       'categorical__pay_utilities_2', 'categorical__pay_utilities_3',\n",
       "       'categorical__pay_utilities_4', 'categorical__pay_utilities_5',\n",
       "       'categorical__internetaccess_1', 'categorical__internetaccess_2',\n",
       "       'categorical__internetaccess_3', 'categorical__internetaccess_4',\n",
       "       'ordinal__educ', 'ordinal__inc_q', 'ordinal__hdi_rank_2021',\n",
       "       'continuous__hdi_2021'], dtype=object)"
      ]
     },
     "execution_count": 44,
     "metadata": {},
     "output_type": "execute_result"
    }
   ],
   "source": [
    "logreg_pipeline.named_steps['preprocessor'].get_feature_names_out()"
   ]
  },
  {
   "cell_type": "code",
   "execution_count": 45,
   "id": "062f9516-726f-406d-a4b1-67a9b83a5aca",
   "metadata": {},
   "outputs": [
    {
     "data": {
      "text/plain": [
       "Index(['educ', 'mobileowner', 'inc_q', 'saved', 'receive_wages',\n",
       "       'receive_transfers', 'receive_pension', 'pay_utilities',\n",
       "       'internetaccess', 'hdi_rank_2021', 'hdi_2021'],\n",
       "      dtype='object')"
      ]
     },
     "execution_count": 45,
     "metadata": {},
     "output_type": "execute_result"
    }
   ],
   "source": [
    "X.columns"
   ]
  },
  {
   "cell_type": "code",
   "execution_count": 46,
   "id": "849451ef-1f17-4738-b5ae-0517783e9913",
   "metadata": {},
   "outputs": [],
   "source": [
    "# Store predictions and predicted probabilities\n",
    "logreg_predictions = logreg_pipeline.predict(X_test)\n",
    "logreg_probabilities = logreg_pipeline.predict_proba(X_test)[:, 1]"
   ]
  },
  {
   "cell_type": "markdown",
   "id": "3e407c8e-ddb3-4c8c-a111-86dfec44a966",
   "metadata": {},
   "source": [
    "#### Logistic Regression Results"
   ]
  },
  {
   "cell_type": "code",
   "execution_count": 47,
   "id": "5290ad10-b0e8-4b56-871d-72ee46defa96",
   "metadata": {},
   "outputs": [
    {
     "name": "stdout",
     "output_type": "stream",
     "text": [
      "              precision    recall  f1-score   support\n",
      "\n",
      "           0       0.70      0.77      0.74      6477\n",
      "           1       0.91      0.88      0.90     17864\n",
      "\n",
      "    accuracy                           0.85     24341\n",
      "   macro avg       0.81      0.83      0.82     24341\n",
      "weighted avg       0.86      0.85      0.85     24341\n",
      "\n"
     ]
    }
   ],
   "source": [
    "print(metrics.classification_report(y_test, logreg_predictions))"
   ]
  },
  {
   "cell_type": "code",
   "execution_count": 48,
   "id": "d09ae7c4-c9f3-4310-8fc7-ec49e4aa58ac",
   "metadata": {},
   "outputs": [
    {
     "name": "stdout",
     "output_type": "stream",
     "text": [
      "              precision    recall  f1-score   support\n",
      "\n",
      "           0       0.70      0.77      0.74      6477\n",
      "           1       0.91      0.88      0.90     17864\n",
      "\n",
      "    accuracy                           0.85     24341\n",
      "   macro avg       0.81      0.83      0.82     24341\n",
      "weighted avg       0.86      0.85      0.85     24341\n",
      "\n"
     ]
    }
   ],
   "source": [
    "print(metrics.classification_report(y_test, logreg_predictions))"
   ]
  },
  {
   "cell_type": "code",
   "execution_count": 49,
   "id": "2bd7aadd-0875-4da0-84a1-748477c3103e",
   "metadata": {},
   "outputs": [
    {
     "name": "stdout",
     "output_type": "stream",
     "text": [
      "Accuracy: 0.8525122221765745\n"
     ]
    }
   ],
   "source": [
    "from sklearn.metrics import accuracy_score\n",
    "\n",
    "accuracy = accuracy_score(y_test, logreg_predictions)\n",
    "print(f\"Accuracy: {accuracy}\")"
   ]
  },
  {
   "cell_type": "code",
   "execution_count": 50,
   "id": "b69cfea0-b61b-44b5-8707-2d591117a758",
   "metadata": {},
   "outputs": [
    {
     "name": "stdout",
     "output_type": "stream",
     "text": [
      "Precision: 0.9147489539748954\n",
      "Recall: 0.8811576354679803\n",
      "F1 Score: 0.8976391423357664\n"
     ]
    }
   ],
   "source": [
    "from sklearn.metrics import precision_score, recall_score, f1_score\n",
    "\n",
    "precision = precision_score(y_test, logreg_predictions)\n",
    "recall = recall_score(y_test, logreg_predictions)\n",
    "f1 = f1_score(y_test, logreg_predictions)\n",
    "\n",
    "print(f\"Precision: {precision}\")\n",
    "print(f\"Recall: {recall}\")\n",
    "print(f\"F1 Score: {f1}\")"
   ]
  },
  {
   "cell_type": "code",
   "execution_count": 51,
   "id": "387586ee-2b8b-4f97-acc1-7e7788a51371",
   "metadata": {},
   "outputs": [
    {
     "name": "stdout",
     "output_type": "stream",
     "text": [
      "Log Loss: 0.2816656390779351\n"
     ]
    }
   ],
   "source": [
    "from sklearn.metrics import log_loss\n",
    "\n",
    "logloss = log_loss(y_test, logreg_probabilities)\n",
    "print(f\"Log Loss: {logloss}\")"
   ]
  },
  {
   "cell_type": "code",
   "execution_count": 52,
   "id": "196d0524-e00b-483e-a0f8-ccc48d2727b4",
   "metadata": {},
   "outputs": [
    {
     "name": "stdout",
     "output_type": "stream",
     "text": [
      "model score: 0.853\n"
     ]
    }
   ],
   "source": [
    "print(\"model score: %.3f\" % logreg_pipeline.score(X_test, y_test))"
   ]
  },
  {
   "cell_type": "markdown",
   "id": "91fc1ba9-b077-4c64-80d3-bf141175360a",
   "metadata": {},
   "source": [
    "### Random Forest"
   ]
  },
  {
   "cell_type": "code",
   "execution_count": 53,
   "id": "704bfd7d-9656-4543-9813-f0438569383b",
   "metadata": {},
   "outputs": [
    {
     "data": {
      "text/html": [
       "<style>#sk-container-id-2 {color: black;background-color: white;}#sk-container-id-2 pre{padding: 0;}#sk-container-id-2 div.sk-toggleable {background-color: white;}#sk-container-id-2 label.sk-toggleable__label {cursor: pointer;display: block;width: 100%;margin-bottom: 0;padding: 0.3em;box-sizing: border-box;text-align: center;}#sk-container-id-2 label.sk-toggleable__label-arrow:before {content: \"▸\";float: left;margin-right: 0.25em;color: #696969;}#sk-container-id-2 label.sk-toggleable__label-arrow:hover:before {color: black;}#sk-container-id-2 div.sk-estimator:hover label.sk-toggleable__label-arrow:before {color: black;}#sk-container-id-2 div.sk-toggleable__content {max-height: 0;max-width: 0;overflow: hidden;text-align: left;background-color: #f0f8ff;}#sk-container-id-2 div.sk-toggleable__content pre {margin: 0.2em;color: black;border-radius: 0.25em;background-color: #f0f8ff;}#sk-container-id-2 input.sk-toggleable__control:checked~div.sk-toggleable__content {max-height: 200px;max-width: 100%;overflow: auto;}#sk-container-id-2 input.sk-toggleable__control:checked~label.sk-toggleable__label-arrow:before {content: \"▾\";}#sk-container-id-2 div.sk-estimator input.sk-toggleable__control:checked~label.sk-toggleable__label {background-color: #d4ebff;}#sk-container-id-2 div.sk-label input.sk-toggleable__control:checked~label.sk-toggleable__label {background-color: #d4ebff;}#sk-container-id-2 input.sk-hidden--visually {border: 0;clip: rect(1px 1px 1px 1px);clip: rect(1px, 1px, 1px, 1px);height: 1px;margin: -1px;overflow: hidden;padding: 0;position: absolute;width: 1px;}#sk-container-id-2 div.sk-estimator {font-family: monospace;background-color: #f0f8ff;border: 1px dotted black;border-radius: 0.25em;box-sizing: border-box;margin-bottom: 0.5em;}#sk-container-id-2 div.sk-estimator:hover {background-color: #d4ebff;}#sk-container-id-2 div.sk-parallel-item::after {content: \"\";width: 100%;border-bottom: 1px solid gray;flex-grow: 1;}#sk-container-id-2 div.sk-label:hover label.sk-toggleable__label {background-color: #d4ebff;}#sk-container-id-2 div.sk-serial::before {content: \"\";position: absolute;border-left: 1px solid gray;box-sizing: border-box;top: 0;bottom: 0;left: 50%;z-index: 0;}#sk-container-id-2 div.sk-serial {display: flex;flex-direction: column;align-items: center;background-color: white;padding-right: 0.2em;padding-left: 0.2em;position: relative;}#sk-container-id-2 div.sk-item {position: relative;z-index: 1;}#sk-container-id-2 div.sk-parallel {display: flex;align-items: stretch;justify-content: center;background-color: white;position: relative;}#sk-container-id-2 div.sk-item::before, #sk-container-id-2 div.sk-parallel-item::before {content: \"\";position: absolute;border-left: 1px solid gray;box-sizing: border-box;top: 0;bottom: 0;left: 50%;z-index: -1;}#sk-container-id-2 div.sk-parallel-item {display: flex;flex-direction: column;z-index: 1;position: relative;background-color: white;}#sk-container-id-2 div.sk-parallel-item:first-child::after {align-self: flex-end;width: 50%;}#sk-container-id-2 div.sk-parallel-item:last-child::after {align-self: flex-start;width: 50%;}#sk-container-id-2 div.sk-parallel-item:only-child::after {width: 0;}#sk-container-id-2 div.sk-dashed-wrapped {border: 1px dashed gray;margin: 0 0.4em 0.5em 0.4em;box-sizing: border-box;padding-bottom: 0.4em;background-color: white;}#sk-container-id-2 div.sk-label label {font-family: monospace;font-weight: bold;display: inline-block;line-height: 1.2em;}#sk-container-id-2 div.sk-label-container {text-align: center;}#sk-container-id-2 div.sk-container {/* jupyter's `normalize.less` sets `[hidden] { display: none; }` but bootstrap.min.css set `[hidden] { display: none !important; }` so we also need the `!important` here to be able to override the default hidden behavior on the sphinx rendered scikit-learn.org. See: https://github.com/scikit-learn/scikit-learn/issues/21755 */display: inline-block !important;position: relative;}#sk-container-id-2 div.sk-text-repr-fallback {display: none;}</style><div id=\"sk-container-id-2\" class=\"sk-top-container\"><div class=\"sk-text-repr-fallback\"><pre>Pipeline(steps=[(&#x27;preprocessor&#x27;,\n",
       "                 ColumnTransformer(transformers=[(&#x27;categorical&#x27;,\n",
       "                                                  OneHotEncoder(),\n",
       "                                                  [&#x27;mobileowner&#x27;,\n",
       "                                                   &#x27;receive_wages&#x27;,\n",
       "                                                   &#x27;receive_transfers&#x27;,\n",
       "                                                   &#x27;receive_pension&#x27;, &#x27;saved&#x27;,\n",
       "                                                   &#x27;pay_utilities&#x27;,\n",
       "                                                   &#x27;internetaccess&#x27;]),\n",
       "                                                 (&#x27;ordinal&#x27;, OrdinalEncoder(),\n",
       "                                                  [&#x27;educ&#x27;, &#x27;inc_q&#x27;,\n",
       "                                                   &#x27;hdi_rank_2021&#x27;]),\n",
       "                                                 (&#x27;continuous&#x27;,\n",
       "                                                  StandardScaler(),\n",
       "                                                  [&#x27;hdi_2021&#x27;])])),\n",
       "                (&#x27;rf&#x27;, RandomForestClassifier())])</pre><b>In a Jupyter environment, please rerun this cell to show the HTML representation or trust the notebook. <br />On GitHub, the HTML representation is unable to render, please try loading this page with nbviewer.org.</b></div><div class=\"sk-container\" hidden><div class=\"sk-item sk-dashed-wrapped\"><div class=\"sk-label-container\"><div class=\"sk-label sk-toggleable\"><input class=\"sk-toggleable__control sk-hidden--visually\" id=\"sk-estimator-id-10\" type=\"checkbox\" ><label for=\"sk-estimator-id-10\" class=\"sk-toggleable__label sk-toggleable__label-arrow\">Pipeline</label><div class=\"sk-toggleable__content\"><pre>Pipeline(steps=[(&#x27;preprocessor&#x27;,\n",
       "                 ColumnTransformer(transformers=[(&#x27;categorical&#x27;,\n",
       "                                                  OneHotEncoder(),\n",
       "                                                  [&#x27;mobileowner&#x27;,\n",
       "                                                   &#x27;receive_wages&#x27;,\n",
       "                                                   &#x27;receive_transfers&#x27;,\n",
       "                                                   &#x27;receive_pension&#x27;, &#x27;saved&#x27;,\n",
       "                                                   &#x27;pay_utilities&#x27;,\n",
       "                                                   &#x27;internetaccess&#x27;]),\n",
       "                                                 (&#x27;ordinal&#x27;, OrdinalEncoder(),\n",
       "                                                  [&#x27;educ&#x27;, &#x27;inc_q&#x27;,\n",
       "                                                   &#x27;hdi_rank_2021&#x27;]),\n",
       "                                                 (&#x27;continuous&#x27;,\n",
       "                                                  StandardScaler(),\n",
       "                                                  [&#x27;hdi_2021&#x27;])])),\n",
       "                (&#x27;rf&#x27;, RandomForestClassifier())])</pre></div></div></div><div class=\"sk-serial\"><div class=\"sk-item sk-dashed-wrapped\"><div class=\"sk-label-container\"><div class=\"sk-label sk-toggleable\"><input class=\"sk-toggleable__control sk-hidden--visually\" id=\"sk-estimator-id-11\" type=\"checkbox\" ><label for=\"sk-estimator-id-11\" class=\"sk-toggleable__label sk-toggleable__label-arrow\">preprocessor: ColumnTransformer</label><div class=\"sk-toggleable__content\"><pre>ColumnTransformer(transformers=[(&#x27;categorical&#x27;, OneHotEncoder(),\n",
       "                                 [&#x27;mobileowner&#x27;, &#x27;receive_wages&#x27;,\n",
       "                                  &#x27;receive_transfers&#x27;, &#x27;receive_pension&#x27;,\n",
       "                                  &#x27;saved&#x27;, &#x27;pay_utilities&#x27;, &#x27;internetaccess&#x27;]),\n",
       "                                (&#x27;ordinal&#x27;, OrdinalEncoder(),\n",
       "                                 [&#x27;educ&#x27;, &#x27;inc_q&#x27;, &#x27;hdi_rank_2021&#x27;]),\n",
       "                                (&#x27;continuous&#x27;, StandardScaler(), [&#x27;hdi_2021&#x27;])])</pre></div></div></div><div class=\"sk-parallel\"><div class=\"sk-parallel-item\"><div class=\"sk-item\"><div class=\"sk-label-container\"><div class=\"sk-label sk-toggleable\"><input class=\"sk-toggleable__control sk-hidden--visually\" id=\"sk-estimator-id-12\" type=\"checkbox\" ><label for=\"sk-estimator-id-12\" class=\"sk-toggleable__label sk-toggleable__label-arrow\">categorical</label><div class=\"sk-toggleable__content\"><pre>[&#x27;mobileowner&#x27;, &#x27;receive_wages&#x27;, &#x27;receive_transfers&#x27;, &#x27;receive_pension&#x27;, &#x27;saved&#x27;, &#x27;pay_utilities&#x27;, &#x27;internetaccess&#x27;]</pre></div></div></div><div class=\"sk-serial\"><div class=\"sk-item\"><div class=\"sk-estimator sk-toggleable\"><input class=\"sk-toggleable__control sk-hidden--visually\" id=\"sk-estimator-id-13\" type=\"checkbox\" ><label for=\"sk-estimator-id-13\" class=\"sk-toggleable__label sk-toggleable__label-arrow\">OneHotEncoder</label><div class=\"sk-toggleable__content\"><pre>OneHotEncoder()</pre></div></div></div></div></div></div><div class=\"sk-parallel-item\"><div class=\"sk-item\"><div class=\"sk-label-container\"><div class=\"sk-label sk-toggleable\"><input class=\"sk-toggleable__control sk-hidden--visually\" id=\"sk-estimator-id-14\" type=\"checkbox\" ><label for=\"sk-estimator-id-14\" class=\"sk-toggleable__label sk-toggleable__label-arrow\">ordinal</label><div class=\"sk-toggleable__content\"><pre>[&#x27;educ&#x27;, &#x27;inc_q&#x27;, &#x27;hdi_rank_2021&#x27;]</pre></div></div></div><div class=\"sk-serial\"><div class=\"sk-item\"><div class=\"sk-estimator sk-toggleable\"><input class=\"sk-toggleable__control sk-hidden--visually\" id=\"sk-estimator-id-15\" type=\"checkbox\" ><label for=\"sk-estimator-id-15\" class=\"sk-toggleable__label sk-toggleable__label-arrow\">OrdinalEncoder</label><div class=\"sk-toggleable__content\"><pre>OrdinalEncoder()</pre></div></div></div></div></div></div><div class=\"sk-parallel-item\"><div class=\"sk-item\"><div class=\"sk-label-container\"><div class=\"sk-label sk-toggleable\"><input class=\"sk-toggleable__control sk-hidden--visually\" id=\"sk-estimator-id-16\" type=\"checkbox\" ><label for=\"sk-estimator-id-16\" class=\"sk-toggleable__label sk-toggleable__label-arrow\">continuous</label><div class=\"sk-toggleable__content\"><pre>[&#x27;hdi_2021&#x27;]</pre></div></div></div><div class=\"sk-serial\"><div class=\"sk-item\"><div class=\"sk-estimator sk-toggleable\"><input class=\"sk-toggleable__control sk-hidden--visually\" id=\"sk-estimator-id-17\" type=\"checkbox\" ><label for=\"sk-estimator-id-17\" class=\"sk-toggleable__label sk-toggleable__label-arrow\">StandardScaler</label><div class=\"sk-toggleable__content\"><pre>StandardScaler()</pre></div></div></div></div></div></div></div></div><div class=\"sk-item\"><div class=\"sk-estimator sk-toggleable\"><input class=\"sk-toggleable__control sk-hidden--visually\" id=\"sk-estimator-id-18\" type=\"checkbox\" ><label for=\"sk-estimator-id-18\" class=\"sk-toggleable__label sk-toggleable__label-arrow\">RandomForestClassifier</label><div class=\"sk-toggleable__content\"><pre>RandomForestClassifier()</pre></div></div></div></div></div></div></div>"
      ],
      "text/plain": [
       "Pipeline(steps=[('preprocessor',\n",
       "                 ColumnTransformer(transformers=[('categorical',\n",
       "                                                  OneHotEncoder(),\n",
       "                                                  ['mobileowner',\n",
       "                                                   'receive_wages',\n",
       "                                                   'receive_transfers',\n",
       "                                                   'receive_pension', 'saved',\n",
       "                                                   'pay_utilities',\n",
       "                                                   'internetaccess']),\n",
       "                                                 ('ordinal', OrdinalEncoder(),\n",
       "                                                  ['educ', 'inc_q',\n",
       "                                                   'hdi_rank_2021']),\n",
       "                                                 ('continuous',\n",
       "                                                  StandardScaler(),\n",
       "                                                  ['hdi_2021'])])),\n",
       "                ('rf', RandomForestClassifier())])"
      ]
     },
     "execution_count": 53,
     "metadata": {},
     "output_type": "execute_result"
    }
   ],
   "source": [
    "rf_pipeline = Pipeline(steps=[('preprocessor', preprocessor),\n",
    "                              ('rf', RandomForestClassifier())])\n",
    "rf_pipeline.fit(X_train, y_train) ## Use head(10)"
   ]
  },
  {
   "cell_type": "code",
   "execution_count": 56,
   "id": "78d8434d-dac2-498c-a6ad-1692a58c60ec",
   "metadata": {},
   "outputs": [],
   "source": [
    "rf_predictions = rf_pipeline.predict(X_test)\n",
    "rf_probabilities = rf_pipeline.predict_proba(X_test)[:, 1]"
   ]
  },
  {
   "cell_type": "markdown",
   "id": "5694876d-4576-4eb9-acde-77f8693e9856",
   "metadata": {},
   "source": [
    "#### Random Forest Results"
   ]
  },
  {
   "cell_type": "code",
   "execution_count": 57,
   "id": "f6b6bec0-31b2-401d-b486-4350de1d1acb",
   "metadata": {},
   "outputs": [
    {
     "name": "stdout",
     "output_type": "stream",
     "text": [
      "              precision    recall  f1-score   support\n",
      "\n",
      "           0       0.74      0.76      0.75      6477\n",
      "           1       0.91      0.90      0.91     17864\n",
      "\n",
      "    accuracy                           0.86     24341\n",
      "   macro avg       0.82      0.83      0.83     24341\n",
      "weighted avg       0.86      0.86      0.86     24341\n",
      "\n"
     ]
    }
   ],
   "source": [
    "print(metrics.classification_report(y_test, rf_predictions))"
   ]
  },
  {
   "cell_type": "code",
   "execution_count": 58,
   "id": "8139fdab-b60c-409c-bcae-a82f565bdc72",
   "metadata": {},
   "outputs": [
    {
     "name": "stdout",
     "output_type": "stream",
     "text": [
      "Log Loss: 0.4696731361770068\n"
     ]
    }
   ],
   "source": [
    "logloss = log_loss(y_test, rf_probabilities)\n",
    "print(f\"Log Loss: {logloss}\")"
   ]
  },
  {
   "cell_type": "code",
   "execution_count": 59,
   "id": "7eed5d7a-cfe8-4a7b-960f-a7b973e137be",
   "metadata": {},
   "outputs": [
    {
     "name": "stdout",
     "output_type": "stream",
     "text": [
      "model score: 0.863\n"
     ]
    }
   ],
   "source": [
    "print(\"model score: %.3f\" % rf_pipeline.score(X_test, y_test))"
   ]
  },
  {
   "cell_type": "code",
   "execution_count": 60,
   "id": "af817aca-9d4c-4dd1-8fd1-8631c74a5ad3",
   "metadata": {},
   "outputs": [
    {
     "name": "stdout",
     "output_type": "stream",
     "text": [
      "Feature ranking:\n",
      "1. Feature 'hdi_rank_2021': 0.1798\n",
      "2. Feature 'hdi_2021': 0.1686\n",
      "3. Feature 'pay_utilities_1': 0.1088\n",
      "4. Feature 'receive_wages_1': 0.0900\n",
      "5. Feature 'inc_q': 0.0686\n",
      "6. Feature 'educ': 0.0452\n",
      "7. Feature 'receive_transfers_1': 0.0448\n",
      "8. Feature 'saved_0': 0.0353\n",
      "9. Feature 'saved_1': 0.0315\n",
      "10. Feature 'internetaccess_1': 0.0280\n",
      "11. Feature 'receive_pension_1': 0.0258\n",
      "12. Feature 'receive_wages_4': 0.0227\n",
      "13. Feature 'internetaccess_2': 0.0205\n",
      "14. Feature 'receive_transfers_4': 0.0174\n",
      "15. Feature 'pay_utilities_4': 0.0167\n",
      "16. Feature 'mobileowner_2': 0.0160\n",
      "17. Feature 'pay_utilities_2': 0.0133\n",
      "18. Feature 'mobileowner_1': 0.0127\n",
      "19. Feature 'receive_wages_2': 0.0116\n",
      "20. Feature 'receive_pension_4': 0.0113\n",
      "21. Feature 'receive_pension_2': 0.0061\n",
      "22. Feature 'receive_transfers_2': 0.0057\n",
      "23. Feature 'pay_utilities_3': 0.0042\n",
      "24. Feature 'receive_transfers_3': 0.0041\n",
      "25. Feature 'receive_wages_3': 0.0026\n",
      "26. Feature 'receive_pension_3': 0.0025\n",
      "27. Feature 'receive_wages_5': 0.0015\n",
      "28. Feature 'receive_transfers_5': 0.0014\n",
      "29. Feature 'pay_utilities_5': 0.0013\n",
      "30. Feature 'receive_pension_5': 0.0009\n",
      "31. Feature 'internetaccess_3': 0.0007\n",
      "32. Feature 'internetaccess_4': 0.0002\n",
      "33. Feature 'mobileowner_4': 0.0002\n",
      "34. Feature 'mobileowner_3': 0.0000\n"
     ]
    }
   ],
   "source": [
    "# Get feature names\n",
    "feature_names = preprocessor.named_transformers_['categorical'].get_feature_names_out(input_features=['mobileowner', 'receive_wages', 'receive_transfers', 'receive_pension', 'saved', 'pay_utilities', 'internetaccess'])\n",
    "feature_names = np.concatenate(\n",
    "    [feature_names,\n",
    "    preprocessor.named_transformers_['ordinal'].get_feature_names_out(['educ', 'inc_q', 'hdi_rank_2021']),\n",
    "    preprocessor.named_transformers_['continuous'].get_feature_names_out(['hdi_2021'])\n",
    "    ])\n",
    "\n",
    "# Feature importances\n",
    "importances = rf_pipeline.named_steps['rf'].feature_importances_\n",
    "\n",
    "# Sort feature importances in descending order\n",
    "indices = np.argsort(importances)[::-1]\n",
    "\n",
    "# Rearrange feature names so they match the sorted feature importances\n",
    "names = [feature_names[i] for i in indices]\n",
    "\n",
    "# Print the feature ranking\n",
    "print(\"Feature ranking:\")\n",
    "\n",
    "for i, name in enumerate(names):\n",
    "    print(\"{}. Feature '{}': {:.4f}\".format(i + 1, name, importances[indices[i]]))\n"
   ]
  },
  {
   "cell_type": "markdown",
   "id": "29c85674-1b30-4868-8344-ad444c3fcd6f",
   "metadata": {},
   "source": [
    "### Gradient Boosting"
   ]
  },
  {
   "cell_type": "code",
   "execution_count": 61,
   "id": "cef42c2e-0d6f-4db9-b295-78808ece0cd1",
   "metadata": {},
   "outputs": [
    {
     "data": {
      "text/html": [
       "<style>#sk-container-id-3 {color: black;background-color: white;}#sk-container-id-3 pre{padding: 0;}#sk-container-id-3 div.sk-toggleable {background-color: white;}#sk-container-id-3 label.sk-toggleable__label {cursor: pointer;display: block;width: 100%;margin-bottom: 0;padding: 0.3em;box-sizing: border-box;text-align: center;}#sk-container-id-3 label.sk-toggleable__label-arrow:before {content: \"▸\";float: left;margin-right: 0.25em;color: #696969;}#sk-container-id-3 label.sk-toggleable__label-arrow:hover:before {color: black;}#sk-container-id-3 div.sk-estimator:hover label.sk-toggleable__label-arrow:before {color: black;}#sk-container-id-3 div.sk-toggleable__content {max-height: 0;max-width: 0;overflow: hidden;text-align: left;background-color: #f0f8ff;}#sk-container-id-3 div.sk-toggleable__content pre {margin: 0.2em;color: black;border-radius: 0.25em;background-color: #f0f8ff;}#sk-container-id-3 input.sk-toggleable__control:checked~div.sk-toggleable__content {max-height: 200px;max-width: 100%;overflow: auto;}#sk-container-id-3 input.sk-toggleable__control:checked~label.sk-toggleable__label-arrow:before {content: \"▾\";}#sk-container-id-3 div.sk-estimator input.sk-toggleable__control:checked~label.sk-toggleable__label {background-color: #d4ebff;}#sk-container-id-3 div.sk-label input.sk-toggleable__control:checked~label.sk-toggleable__label {background-color: #d4ebff;}#sk-container-id-3 input.sk-hidden--visually {border: 0;clip: rect(1px 1px 1px 1px);clip: rect(1px, 1px, 1px, 1px);height: 1px;margin: -1px;overflow: hidden;padding: 0;position: absolute;width: 1px;}#sk-container-id-3 div.sk-estimator {font-family: monospace;background-color: #f0f8ff;border: 1px dotted black;border-radius: 0.25em;box-sizing: border-box;margin-bottom: 0.5em;}#sk-container-id-3 div.sk-estimator:hover {background-color: #d4ebff;}#sk-container-id-3 div.sk-parallel-item::after {content: \"\";width: 100%;border-bottom: 1px solid gray;flex-grow: 1;}#sk-container-id-3 div.sk-label:hover label.sk-toggleable__label {background-color: #d4ebff;}#sk-container-id-3 div.sk-serial::before {content: \"\";position: absolute;border-left: 1px solid gray;box-sizing: border-box;top: 0;bottom: 0;left: 50%;z-index: 0;}#sk-container-id-3 div.sk-serial {display: flex;flex-direction: column;align-items: center;background-color: white;padding-right: 0.2em;padding-left: 0.2em;position: relative;}#sk-container-id-3 div.sk-item {position: relative;z-index: 1;}#sk-container-id-3 div.sk-parallel {display: flex;align-items: stretch;justify-content: center;background-color: white;position: relative;}#sk-container-id-3 div.sk-item::before, #sk-container-id-3 div.sk-parallel-item::before {content: \"\";position: absolute;border-left: 1px solid gray;box-sizing: border-box;top: 0;bottom: 0;left: 50%;z-index: -1;}#sk-container-id-3 div.sk-parallel-item {display: flex;flex-direction: column;z-index: 1;position: relative;background-color: white;}#sk-container-id-3 div.sk-parallel-item:first-child::after {align-self: flex-end;width: 50%;}#sk-container-id-3 div.sk-parallel-item:last-child::after {align-self: flex-start;width: 50%;}#sk-container-id-3 div.sk-parallel-item:only-child::after {width: 0;}#sk-container-id-3 div.sk-dashed-wrapped {border: 1px dashed gray;margin: 0 0.4em 0.5em 0.4em;box-sizing: border-box;padding-bottom: 0.4em;background-color: white;}#sk-container-id-3 div.sk-label label {font-family: monospace;font-weight: bold;display: inline-block;line-height: 1.2em;}#sk-container-id-3 div.sk-label-container {text-align: center;}#sk-container-id-3 div.sk-container {/* jupyter's `normalize.less` sets `[hidden] { display: none; }` but bootstrap.min.css set `[hidden] { display: none !important; }` so we also need the `!important` here to be able to override the default hidden behavior on the sphinx rendered scikit-learn.org. See: https://github.com/scikit-learn/scikit-learn/issues/21755 */display: inline-block !important;position: relative;}#sk-container-id-3 div.sk-text-repr-fallback {display: none;}</style><div id=\"sk-container-id-3\" class=\"sk-top-container\"><div class=\"sk-text-repr-fallback\"><pre>Pipeline(steps=[(&#x27;preprocessor&#x27;,\n",
       "                 ColumnTransformer(transformers=[(&#x27;categorical&#x27;,\n",
       "                                                  OneHotEncoder(),\n",
       "                                                  [&#x27;mobileowner&#x27;,\n",
       "                                                   &#x27;receive_wages&#x27;,\n",
       "                                                   &#x27;receive_transfers&#x27;,\n",
       "                                                   &#x27;receive_pension&#x27;, &#x27;saved&#x27;,\n",
       "                                                   &#x27;pay_utilities&#x27;,\n",
       "                                                   &#x27;internetaccess&#x27;]),\n",
       "                                                 (&#x27;ordinal&#x27;, OrdinalEncoder(),\n",
       "                                                  [&#x27;educ&#x27;, &#x27;inc_q&#x27;,\n",
       "                                                   &#x27;hdi_rank_2021&#x27;]),\n",
       "                                                 (&#x27;continuous&#x27;,\n",
       "                                                  StandardScaler(),\n",
       "                                                  [&#x27;hdi_2021&#x27;])])),\n",
       "                (&#x27;gb&#x27;, GradientBoostingClassifier())])</pre><b>In a Jupyter environment, please rerun this cell to show the HTML representation or trust the notebook. <br />On GitHub, the HTML representation is unable to render, please try loading this page with nbviewer.org.</b></div><div class=\"sk-container\" hidden><div class=\"sk-item sk-dashed-wrapped\"><div class=\"sk-label-container\"><div class=\"sk-label sk-toggleable\"><input class=\"sk-toggleable__control sk-hidden--visually\" id=\"sk-estimator-id-19\" type=\"checkbox\" ><label for=\"sk-estimator-id-19\" class=\"sk-toggleable__label sk-toggleable__label-arrow\">Pipeline</label><div class=\"sk-toggleable__content\"><pre>Pipeline(steps=[(&#x27;preprocessor&#x27;,\n",
       "                 ColumnTransformer(transformers=[(&#x27;categorical&#x27;,\n",
       "                                                  OneHotEncoder(),\n",
       "                                                  [&#x27;mobileowner&#x27;,\n",
       "                                                   &#x27;receive_wages&#x27;,\n",
       "                                                   &#x27;receive_transfers&#x27;,\n",
       "                                                   &#x27;receive_pension&#x27;, &#x27;saved&#x27;,\n",
       "                                                   &#x27;pay_utilities&#x27;,\n",
       "                                                   &#x27;internetaccess&#x27;]),\n",
       "                                                 (&#x27;ordinal&#x27;, OrdinalEncoder(),\n",
       "                                                  [&#x27;educ&#x27;, &#x27;inc_q&#x27;,\n",
       "                                                   &#x27;hdi_rank_2021&#x27;]),\n",
       "                                                 (&#x27;continuous&#x27;,\n",
       "                                                  StandardScaler(),\n",
       "                                                  [&#x27;hdi_2021&#x27;])])),\n",
       "                (&#x27;gb&#x27;, GradientBoostingClassifier())])</pre></div></div></div><div class=\"sk-serial\"><div class=\"sk-item sk-dashed-wrapped\"><div class=\"sk-label-container\"><div class=\"sk-label sk-toggleable\"><input class=\"sk-toggleable__control sk-hidden--visually\" id=\"sk-estimator-id-20\" type=\"checkbox\" ><label for=\"sk-estimator-id-20\" class=\"sk-toggleable__label sk-toggleable__label-arrow\">preprocessor: ColumnTransformer</label><div class=\"sk-toggleable__content\"><pre>ColumnTransformer(transformers=[(&#x27;categorical&#x27;, OneHotEncoder(),\n",
       "                                 [&#x27;mobileowner&#x27;, &#x27;receive_wages&#x27;,\n",
       "                                  &#x27;receive_transfers&#x27;, &#x27;receive_pension&#x27;,\n",
       "                                  &#x27;saved&#x27;, &#x27;pay_utilities&#x27;, &#x27;internetaccess&#x27;]),\n",
       "                                (&#x27;ordinal&#x27;, OrdinalEncoder(),\n",
       "                                 [&#x27;educ&#x27;, &#x27;inc_q&#x27;, &#x27;hdi_rank_2021&#x27;]),\n",
       "                                (&#x27;continuous&#x27;, StandardScaler(), [&#x27;hdi_2021&#x27;])])</pre></div></div></div><div class=\"sk-parallel\"><div class=\"sk-parallel-item\"><div class=\"sk-item\"><div class=\"sk-label-container\"><div class=\"sk-label sk-toggleable\"><input class=\"sk-toggleable__control sk-hidden--visually\" id=\"sk-estimator-id-21\" type=\"checkbox\" ><label for=\"sk-estimator-id-21\" class=\"sk-toggleable__label sk-toggleable__label-arrow\">categorical</label><div class=\"sk-toggleable__content\"><pre>[&#x27;mobileowner&#x27;, &#x27;receive_wages&#x27;, &#x27;receive_transfers&#x27;, &#x27;receive_pension&#x27;, &#x27;saved&#x27;, &#x27;pay_utilities&#x27;, &#x27;internetaccess&#x27;]</pre></div></div></div><div class=\"sk-serial\"><div class=\"sk-item\"><div class=\"sk-estimator sk-toggleable\"><input class=\"sk-toggleable__control sk-hidden--visually\" id=\"sk-estimator-id-22\" type=\"checkbox\" ><label for=\"sk-estimator-id-22\" class=\"sk-toggleable__label sk-toggleable__label-arrow\">OneHotEncoder</label><div class=\"sk-toggleable__content\"><pre>OneHotEncoder()</pre></div></div></div></div></div></div><div class=\"sk-parallel-item\"><div class=\"sk-item\"><div class=\"sk-label-container\"><div class=\"sk-label sk-toggleable\"><input class=\"sk-toggleable__control sk-hidden--visually\" id=\"sk-estimator-id-23\" type=\"checkbox\" ><label for=\"sk-estimator-id-23\" class=\"sk-toggleable__label sk-toggleable__label-arrow\">ordinal</label><div class=\"sk-toggleable__content\"><pre>[&#x27;educ&#x27;, &#x27;inc_q&#x27;, &#x27;hdi_rank_2021&#x27;]</pre></div></div></div><div class=\"sk-serial\"><div class=\"sk-item\"><div class=\"sk-estimator sk-toggleable\"><input class=\"sk-toggleable__control sk-hidden--visually\" id=\"sk-estimator-id-24\" type=\"checkbox\" ><label for=\"sk-estimator-id-24\" class=\"sk-toggleable__label sk-toggleable__label-arrow\">OrdinalEncoder</label><div class=\"sk-toggleable__content\"><pre>OrdinalEncoder()</pre></div></div></div></div></div></div><div class=\"sk-parallel-item\"><div class=\"sk-item\"><div class=\"sk-label-container\"><div class=\"sk-label sk-toggleable\"><input class=\"sk-toggleable__control sk-hidden--visually\" id=\"sk-estimator-id-25\" type=\"checkbox\" ><label for=\"sk-estimator-id-25\" class=\"sk-toggleable__label sk-toggleable__label-arrow\">continuous</label><div class=\"sk-toggleable__content\"><pre>[&#x27;hdi_2021&#x27;]</pre></div></div></div><div class=\"sk-serial\"><div class=\"sk-item\"><div class=\"sk-estimator sk-toggleable\"><input class=\"sk-toggleable__control sk-hidden--visually\" id=\"sk-estimator-id-26\" type=\"checkbox\" ><label for=\"sk-estimator-id-26\" class=\"sk-toggleable__label sk-toggleable__label-arrow\">StandardScaler</label><div class=\"sk-toggleable__content\"><pre>StandardScaler()</pre></div></div></div></div></div></div></div></div><div class=\"sk-item\"><div class=\"sk-estimator sk-toggleable\"><input class=\"sk-toggleable__control sk-hidden--visually\" id=\"sk-estimator-id-27\" type=\"checkbox\" ><label for=\"sk-estimator-id-27\" class=\"sk-toggleable__label sk-toggleable__label-arrow\">GradientBoostingClassifier</label><div class=\"sk-toggleable__content\"><pre>GradientBoostingClassifier()</pre></div></div></div></div></div></div></div>"
      ],
      "text/plain": [
       "Pipeline(steps=[('preprocessor',\n",
       "                 ColumnTransformer(transformers=[('categorical',\n",
       "                                                  OneHotEncoder(),\n",
       "                                                  ['mobileowner',\n",
       "                                                   'receive_wages',\n",
       "                                                   'receive_transfers',\n",
       "                                                   'receive_pension', 'saved',\n",
       "                                                   'pay_utilities',\n",
       "                                                   'internetaccess']),\n",
       "                                                 ('ordinal', OrdinalEncoder(),\n",
       "                                                  ['educ', 'inc_q',\n",
       "                                                   'hdi_rank_2021']),\n",
       "                                                 ('continuous',\n",
       "                                                  StandardScaler(),\n",
       "                                                  ['hdi_2021'])])),\n",
       "                ('gb', GradientBoostingClassifier())])"
      ]
     },
     "execution_count": 61,
     "metadata": {},
     "output_type": "execute_result"
    }
   ],
   "source": [
    "from sklearn.ensemble import GradientBoostingClassifier\n",
    "\n",
    "gb_pipeline = Pipeline(steps=[('preprocessor', preprocessor),\n",
    "                              ('gb', GradientBoostingClassifier())])\n",
    "\n",
    "gb_pipeline.fit(X_train, y_train)"
   ]
  },
  {
   "cell_type": "code",
   "execution_count": 62,
   "id": "2ef01c1a-3a78-450e-8eb5-7bb4730deb8f",
   "metadata": {},
   "outputs": [],
   "source": [
    "# Store predictions for the Gradient Boosting Model \n",
    "gb_predictions = gb_pipeline.predict(X_test)\n",
    "gb_probabilities = gb_pipeline.predict_proba(X_test)[:, 1]"
   ]
  },
  {
   "cell_type": "markdown",
   "id": "d96bd235-296f-49c6-b00b-75b8fef36c87",
   "metadata": {},
   "source": [
    "#### Gradient Boosting Results"
   ]
  },
  {
   "cell_type": "code",
   "execution_count": 63,
   "id": "a7b7d85d-9d73-44f8-a4e3-ddbc17167106",
   "metadata": {},
   "outputs": [
    {
     "name": "stdout",
     "output_type": "stream",
     "text": [
      "              precision    recall  f1-score   support\n",
      "\n",
      "           0       0.74      0.77      0.76      6477\n",
      "           1       0.92      0.90      0.91     17864\n",
      "\n",
      "    accuracy                           0.87     24341\n",
      "   macro avg       0.83      0.84      0.83     24341\n",
      "weighted avg       0.87      0.87      0.87     24341\n",
      "\n"
     ]
    }
   ],
   "source": [
    "print(metrics.classification_report(y_test, gb_predictions))"
   ]
  },
  {
   "cell_type": "code",
   "execution_count": 64,
   "id": "8c0c6c11-1dde-4d1e-8e94-a84ef90449e9",
   "metadata": {},
   "outputs": [
    {
     "name": "stdout",
     "output_type": "stream",
     "text": [
      "Log Loss: 0.2649957436685635\n"
     ]
    }
   ],
   "source": [
    "logloss = log_loss(y_test, gb_probabilities)\n",
    "print(f\"Log Loss: {logloss}\")"
   ]
  },
  {
   "cell_type": "code",
   "execution_count": 65,
   "id": "74e534da-e0fc-495a-8351-4519118a3957",
   "metadata": {},
   "outputs": [
    {
     "name": "stdout",
     "output_type": "stream",
     "text": [
      "model score: 0.868\n"
     ]
    }
   ],
   "source": [
    "print(\"model score: %.3f\" % gb_pipeline.score(X_test, y_test))"
   ]
  },
  {
   "cell_type": "markdown",
   "id": "87c7a76f-4430-464e-85cc-bc00cd8271d1",
   "metadata": {},
   "source": [
    "## Comparing Accuracy and AUC-ROC Scores Across Models"
   ]
  },
  {
   "cell_type": "code",
   "execution_count": 67,
   "id": "82cab919-5b79-443a-927f-ccf5b1a0376c",
   "metadata": {},
   "outputs": [
    {
     "name": "stdout",
     "output_type": "stream",
     "text": [
      "Logistic Regression Accuracy: 0.85\n",
      "Logistic Regression AUC: 0.93\n",
      "Random Forest Accuracy: 0.86\n",
      "Random Forest AUC: 0.93\n",
      "Gradient Boosting Accuracy: 0.87\n",
      "Gradient Boosting AUC: 0.94\n"
     ]
    }
   ],
   "source": [
    "from sklearn.metrics import accuracy_score, roc_auc_score\n",
    "\n",
    "# Logistic Regression metrics\n",
    "logreg_accuracy = accuracy_score(y_test, logreg_predictions)\n",
    "logreg_auc = roc_auc_score(y_test, logreg_probabilities)\n",
    "\n",
    "# Random Forest metrics\n",
    "rf_accuracy = accuracy_score(y_test, rf_predictions)\n",
    "rf_auc = roc_auc_score(y_test, rf_probabilities)\n",
    "\n",
    "# Gradient Boosting metrics\n",
    "gb_accuracy = accuracy_score(y_test, gb_predictions)\n",
    "gb_auc = roc_auc_score(y_test, gb_probabilities)\n",
    "\n",
    "\n",
    "print(\"Logistic Regression Accuracy: {:.2f}\".format(logreg_accuracy))\n",
    "print(\"Logistic Regression AUC: {:.2f}\".format(logreg_auc))\n",
    "print(\"Random Forest Accuracy: {:.2f}\".format(rf_accuracy))\n",
    "print(\"Random Forest AUC: {:.2f}\".format(rf_auc))\n",
    "print(\"Gradient Boosting Accuracy: {:.2f}\".format(gb_accuracy))\n",
    "print(\"Gradient Boosting AUC: {:.2f}\".format(gb_auc))\n"
   ]
  },
  {
   "cell_type": "markdown",
   "id": "cfbc6ad9-7861-468b-b31d-6be4c9f895c5",
   "metadata": {},
   "source": [
    "### Calculate Metrics for Each Model"
   ]
  },
  {
   "cell_type": "code",
   "execution_count": 68,
   "id": "8b3bb2ea-8bcd-4834-864e-6e57520e66f9",
   "metadata": {},
   "outputs": [],
   "source": [
    "import matplotlib.pyplot as plt\n",
    "from sklearn.metrics import roc_curve, auc, precision_recall_curve\n",
    "\n",
    "# Calculate ROC curve\n",
    "logreg_fpr, logreg_tpr, _ = roc_curve(y_test, logreg_probabilities)\n",
    "rf_fpr, rf_tpr, _ = roc_curve(y_test, rf_probabilities)\n",
    "gb_fpr, gb_tpr, _ = roc_curve(y_test, gb_probabilities)\n",
    "\n",
    "# Calculate Precision-Recall curve\n",
    "logreg_precision, logreg_recall, _ = precision_recall_curve(y_test, logreg_probabilities)\n",
    "rf_precision, rf_recall, _ = precision_recall_curve(y_test, rf_probabilities)\n",
    "gb_precision, gb_recall, _ = precision_recall_curve(y_test, gb_probabilities)"
   ]
  },
  {
   "cell_type": "markdown",
   "id": "009c3d3b-9744-48c4-b79d-0af83a7626a5",
   "metadata": {},
   "source": [
    "### Bar Plots for Accuracy and AUC-ROC:"
   ]
  },
  {
   "cell_type": "code",
   "execution_count": 83,
   "id": "753369cb-8434-418b-b72b-c87de666ebee",
   "metadata": {},
   "outputs": [
    {
     "data": {
      "image/png": "[encoded data removed]",
      "text/plain": [
       "<Figure size 1600x400 with 2 Axes>"
      ]
     },
     "metadata": {},
     "output_type": "display_data"
    }
   ],
   "source": [
    "plt.figure(figsize=(16, 4))\n",
    "\n",
    "# Set up different colors for each model\n",
    "colors = ['blue', 'orange', 'green']\n",
    "\n",
    "# Accuracy plot\n",
    "plt.subplot(1, 2, 1)\n",
    "plt.bar(['LogReg', 'RF', 'GB'], [logreg_accuracy, rf_accuracy, gb_accuracy], color=colors)\n",
    "plt.ylim([0.8, 1])\n",
    "plt.ylabel('Accuracy')\n",
    "plt.title('Model Accuracy Comparison')\n",
    "\n",
    "# AUC plot\n",
    "plt.subplot(1, 2, 2)\n",
    "plt.bar(['LogReg', 'RF', 'GB'], [logreg_auc, rf_auc, gb_auc], color=colors)\n",
    "plt.ylim([0.8, 1])\n",
    "plt.ylabel('AUC')\n",
    "plt.title('Model AUC Comparison')\n",
    "\n",
    "plt.tight_layout()\n",
    "plt.show()"
   ]
  },
  {
   "cell_type": "code",
   "execution_count": 87,
   "id": "889e2369-1d8d-4fa1-ace8-7ad6fb1f127b",
   "metadata": {},
   "outputs": [
    {
     "data": {
      "image/png": "[encoded data removed]",
      "text/plain": [
       "<Figure size 1600x400 with 2 Axes>"
      ]
     },
     "metadata": {},
     "output_type": "display_data"
    }
   ],
   "source": [
    "import matplotlib.pyplot as plt\n",
    "\n",
    "# Accuracy plot\n",
    "plt.figure(figsize=(16, 4))\n",
    "\n",
    "plt.subplot(1, 2, 1)\n",
    "bars = plt.bar(['LogReg', 'RF', 'GB'], [logreg_accuracy, rf_accuracy, gb_accuracy], color=['blue', 'green', 'orange'])\n",
    "plt.ylim([0.8, 1])\n",
    "plt.ylabel('Accuracy')\n",
    "plt.title('Model Accuracy Comparison')\n",
    "\n",
    "# Adding data labels\n",
    "for bar in bars:\n",
    "    yval = bar.get_height()\n",
    "    plt.text(bar.get_x() + bar.get_width()/2.5, yval, round(yval, 2), va='bottom')  # va: vertical alignment\n",
    "\n",
    "# AUC plot\n",
    "plt.subplot(1, 2, 2)\n",
    "bars = plt.bar(['LogReg', 'RF', 'GB'], [logreg_auc, rf_auc, gb_auc], color=['blue', 'green', 'orange'])\n",
    "plt.ylim([0.8, 1])\n",
    "plt.ylabel('AUC')\n",
    "plt.title('Model AUC Comparison')\n",
    "\n",
    "# Adding data labels\n",
    "for bar in bars:\n",
    "    yval = bar.get_height()\n",
    "    plt.text(bar.get_x() + bar.get_width()/2.5, yval, round(yval, 2), va='bottom')\n",
    "\n",
    "plt.tight_layout()\n",
    "plt.show()\n"
   ]
  },
  {
   "cell_type": "markdown",
   "id": "c1e39aa3-8bf9-4a50-9edd-8f994284e36b",
   "metadata": {},
   "source": [
    "### ROC Curves:"
   ]
  },
  {
   "cell_type": "code",
   "execution_count": 92,
   "id": "aa853c12-33cf-47a3-a358-5267a269accc",
   "metadata": {},
   "outputs": [
    {
     "data": {
      "image/png": "[encoded data removed]",
      "text/plain": [
       "<Figure size 600x600 with 1 Axes>"
      ]
     },
     "metadata": {},
     "output_type": "display_data"
    }
   ],
   "source": [
    "plt.figure(figsize=(6, 6))\n",
    "\n",
    "plt.plot(logreg_fpr, logreg_tpr, label=f'LogReg (AUC = {logreg_auc:.2f})')\n",
    "plt.plot(rf_fpr, rf_tpr, label=f'RF (AUC = {rf_auc:.2f})')\n",
    "plt.plot(gb_fpr, gb_tpr, label=f'GB (AUC = {gb_auc:.2f})')\n",
    "\n",
    "plt.plot([0, 1], [0, 1], color='gray', linestyle='--')\n",
    "plt.xlim([0.0, 1.0])\n",
    "plt.ylim([0.5, 1.05])\n",
    "plt.xlabel('False Positive Rate')\n",
    "plt.ylabel('True Positive Rate')\n",
    "plt.title('Receiver Operating Characteristic curves')\n",
    "plt.legend(loc=\"lower right\")\n",
    "\n",
    "plt.show()"
   ]
  },
  {
   "cell_type": "markdown",
   "id": "64beaed7-895e-4a0e-83c8-4d9f9e823805",
   "metadata": {},
   "source": [
    "### Precision-Recall Curves:"
   ]
  },
  {
   "cell_type": "code",
   "execution_count": 93,
   "id": "076b1a3c-ac31-4dcf-9eec-c52d5b2070dd",
   "metadata": {},
   "outputs": [
    {
     "data": {
      "image/png": "[encoded data removed]",
      "text/plain": [
       "<Figure size 600x600 with 1 Axes>"
      ]
     },
     "metadata": {},
     "output_type": "display_data"
    }
   ],
   "source": [
    "plt.figure(figsize=(6, 6))\n",
    "\n",
    "plt.plot(logreg_recall, logreg_precision, label=f'LogReg')\n",
    "plt.plot(rf_recall, rf_precision, label=f'RF')\n",
    "plt.plot(gb_recall, gb_precision, label=f'GB')\n",
    "\n",
    "plt.xlim([0.2, 1.0])\n",
    "plt.ylim([0.7, 1.05])\n",
    "plt.xlabel('Recall')\n",
    "plt.ylabel('Precision')\n",
    "plt.title('Precision-Recall curves')\n",
    "plt.legend()\n",
    "\n",
    "plt.show()"
   ]
  },
  {
   "cell_type": "markdown",
   "id": "d9e0677f-7077-4a26-b4f2-26e6069ce7eb",
   "metadata": {},
   "source": [
    "## Using XGBoost to Further Augment the Gradient Boosting Scores"
   ]
  },
  {
   "cell_type": "code",
   "execution_count": 94,
   "id": "f09c594e-c566-4eee-93a2-a626509b4100",
   "metadata": {},
   "outputs": [
    {
     "data": {
      "text/html": [
       "<style>#sk-container-id-4 {color: black;background-color: white;}#sk-container-id-4 pre{padding: 0;}#sk-container-id-4 div.sk-toggleable {background-color: white;}#sk-container-id-4 label.sk-toggleable__label {cursor: pointer;display: block;width: 100%;margin-bottom: 0;padding: 0.3em;box-sizing: border-box;text-align: center;}#sk-container-id-4 label.sk-toggleable__label-arrow:before {content: \"▸\";float: left;margin-right: 0.25em;color: #696969;}#sk-container-id-4 label.sk-toggleable__label-arrow:hover:before {color: black;}#sk-container-id-4 div.sk-estimator:hover label.sk-toggleable__label-arrow:before {color: black;}#sk-container-id-4 div.sk-toggleable__content {max-height: 0;max-width: 0;overflow: hidden;text-align: left;background-color: #f0f8ff;}#sk-container-id-4 div.sk-toggleable__content pre {margin: 0.2em;color: black;border-radius: 0.25em;background-color: #f0f8ff;}#sk-container-id-4 input.sk-toggleable__control:checked~div.sk-toggleable__content {max-height: 200px;max-width: 100%;overflow: auto;}#sk-container-id-4 input.sk-toggleable__control:checked~label.sk-toggleable__label-arrow:before {content: \"▾\";}#sk-container-id-4 div.sk-estimator input.sk-toggleable__control:checked~label.sk-toggleable__label {background-color: #d4ebff;}#sk-container-id-4 div.sk-label input.sk-toggleable__control:checked~label.sk-toggleable__label {background-color: #d4ebff;}#sk-container-id-4 input.sk-hidden--visually {border: 0;clip: rect(1px 1px 1px 1px);clip: rect(1px, 1px, 1px, 1px);height: 1px;margin: -1px;overflow: hidden;padding: 0;position: absolute;width: 1px;}#sk-container-id-4 div.sk-estimator {font-family: monospace;background-color: #f0f8ff;border: 1px dotted black;border-radius: 0.25em;box-sizing: border-box;margin-bottom: 0.5em;}#sk-container-id-4 div.sk-estimator:hover {background-color: #d4ebff;}#sk-container-id-4 div.sk-parallel-item::after {content: \"\";width: 100%;border-bottom: 1px solid gray;flex-grow: 1;}#sk-container-id-4 div.sk-label:hover label.sk-toggleable__label {background-color: #d4ebff;}#sk-container-id-4 div.sk-serial::before {content: \"\";position: absolute;border-left: 1px solid gray;box-sizing: border-box;top: 0;bottom: 0;left: 50%;z-index: 0;}#sk-container-id-4 div.sk-serial {display: flex;flex-direction: column;align-items: center;background-color: white;padding-right: 0.2em;padding-left: 0.2em;position: relative;}#sk-container-id-4 div.sk-item {position: relative;z-index: 1;}#sk-container-id-4 div.sk-parallel {display: flex;align-items: stretch;justify-content: center;background-color: white;position: relative;}#sk-container-id-4 div.sk-item::before, #sk-container-id-4 div.sk-parallel-item::before {content: \"\";position: absolute;border-left: 1px solid gray;box-sizing: border-box;top: 0;bottom: 0;left: 50%;z-index: -1;}#sk-container-id-4 div.sk-parallel-item {display: flex;flex-direction: column;z-index: 1;position: relative;background-color: white;}#sk-container-id-4 div.sk-parallel-item:first-child::after {align-self: flex-end;width: 50%;}#sk-container-id-4 div.sk-parallel-item:last-child::after {align-self: flex-start;width: 50%;}#sk-container-id-4 div.sk-parallel-item:only-child::after {width: 0;}#sk-container-id-4 div.sk-dashed-wrapped {border: 1px dashed gray;margin: 0 0.4em 0.5em 0.4em;box-sizing: border-box;padding-bottom: 0.4em;background-color: white;}#sk-container-id-4 div.sk-label label {font-family: monospace;font-weight: bold;display: inline-block;line-height: 1.2em;}#sk-container-id-4 div.sk-label-container {text-align: center;}#sk-container-id-4 div.sk-container {/* jupyter's `normalize.less` sets `[hidden] { display: none; }` but bootstrap.min.css set `[hidden] { display: none !important; }` so we also need the `!important` here to be able to override the default hidden behavior on the sphinx rendered scikit-learn.org. See: https://github.com/scikit-learn/scikit-learn/issues/21755 */display: inline-block !important;position: relative;}#sk-container-id-4 div.sk-text-repr-fallback {display: none;}</style><div id=\"sk-container-id-4\" class=\"sk-top-container\"><div class=\"sk-text-repr-fallback\"><pre>Pipeline(steps=[(&#x27;preprocessor&#x27;,\n",
       "                 ColumnTransformer(transformers=[(&#x27;categorical&#x27;,\n",
       "                                                  OneHotEncoder(),\n",
       "                                                  [&#x27;mobileowner&#x27;,\n",
       "                                                   &#x27;receive_wages&#x27;,\n",
       "                                                   &#x27;receive_transfers&#x27;,\n",
       "                                                   &#x27;receive_pension&#x27;, &#x27;saved&#x27;,\n",
       "                                                   &#x27;pay_utilities&#x27;,\n",
       "                                                   &#x27;internetaccess&#x27;]),\n",
       "                                                 (&#x27;ordinal&#x27;, OrdinalEncoder(),\n",
       "                                                  [&#x27;educ&#x27;, &#x27;inc_q&#x27;,\n",
       "                                                   &#x27;hdi_rank_2021&#x27;]),\n",
       "                                                 (&#x27;continuous&#x27;,\n",
       "                                                  StandardScaler(),\n",
       "                                                  [&#x27;hdi_2021&#x27;])])),\n",
       "                (&#x27;xgb&#x27;,\n",
       "                 XGBClassifier(base_score=N...\n",
       "                               feature_types=None, gamma=None, gpu_id=None,\n",
       "                               grow_policy=None, importance_type=None,\n",
       "                               interaction_constraints=None, learning_rate=None,\n",
       "                               max_bin=None, max_cat_threshold=None,\n",
       "                               max_cat_to_onehot=None, max_delta_step=None,\n",
       "                               max_depth=None, max_leaves=None,\n",
       "                               min_child_weight=None, missing=nan,\n",
       "                               monotone_constraints=None, n_estimators=100,\n",
       "                               n_jobs=None, num_parallel_tree=None,\n",
       "                               predictor=None, random_state=None, ...))])</pre><b>In a Jupyter environment, please rerun this cell to show the HTML representation or trust the notebook. <br />On GitHub, the HTML representation is unable to render, please try loading this page with nbviewer.org.</b></div><div class=\"sk-container\" hidden><div class=\"sk-item sk-dashed-wrapped\"><div class=\"sk-label-container\"><div class=\"sk-label sk-toggleable\"><input class=\"sk-toggleable__control sk-hidden--visually\" id=\"sk-estimator-id-28\" type=\"checkbox\" ><label for=\"sk-estimator-id-28\" class=\"sk-toggleable__label sk-toggleable__label-arrow\">Pipeline</label><div class=\"sk-toggleable__content\"><pre>Pipeline(steps=[(&#x27;preprocessor&#x27;,\n",
       "                 ColumnTransformer(transformers=[(&#x27;categorical&#x27;,\n",
       "                                                  OneHotEncoder(),\n",
       "                                                  [&#x27;mobileowner&#x27;,\n",
       "                                                   &#x27;receive_wages&#x27;,\n",
       "                                                   &#x27;receive_transfers&#x27;,\n",
       "                                                   &#x27;receive_pension&#x27;, &#x27;saved&#x27;,\n",
       "                                                   &#x27;pay_utilities&#x27;,\n",
       "                                                   &#x27;internetaccess&#x27;]),\n",
       "                                                 (&#x27;ordinal&#x27;, OrdinalEncoder(),\n",
       "                                                  [&#x27;educ&#x27;, &#x27;inc_q&#x27;,\n",
       "                                                   &#x27;hdi_rank_2021&#x27;]),\n",
       "                                                 (&#x27;continuous&#x27;,\n",
       "                                                  StandardScaler(),\n",
       "                                                  [&#x27;hdi_2021&#x27;])])),\n",
       "                (&#x27;xgb&#x27;,\n",
       "                 XGBClassifier(base_score=N...\n",
       "                               feature_types=None, gamma=None, gpu_id=None,\n",
       "                               grow_policy=None, importance_type=None,\n",
       "                               interaction_constraints=None, learning_rate=None,\n",
       "                               max_bin=None, max_cat_threshold=None,\n",
       "                               max_cat_to_onehot=None, max_delta_step=None,\n",
       "                               max_depth=None, max_leaves=None,\n",
       "                               min_child_weight=None, missing=nan,\n",
       "                               monotone_constraints=None, n_estimators=100,\n",
       "                               n_jobs=None, num_parallel_tree=None,\n",
       "                               predictor=None, random_state=None, ...))])</pre></div></div></div><div class=\"sk-serial\"><div class=\"sk-item sk-dashed-wrapped\"><div class=\"sk-label-container\"><div class=\"sk-label sk-toggleable\"><input class=\"sk-toggleable__control sk-hidden--visually\" id=\"sk-estimator-id-29\" type=\"checkbox\" ><label for=\"sk-estimator-id-29\" class=\"sk-toggleable__label sk-toggleable__label-arrow\">preprocessor: ColumnTransformer</label><div class=\"sk-toggleable__content\"><pre>ColumnTransformer(transformers=[(&#x27;categorical&#x27;, OneHotEncoder(),\n",
       "                                 [&#x27;mobileowner&#x27;, &#x27;receive_wages&#x27;,\n",
       "                                  &#x27;receive_transfers&#x27;, &#x27;receive_pension&#x27;,\n",
       "                                  &#x27;saved&#x27;, &#x27;pay_utilities&#x27;, &#x27;internetaccess&#x27;]),\n",
       "                                (&#x27;ordinal&#x27;, OrdinalEncoder(),\n",
       "                                 [&#x27;educ&#x27;, &#x27;inc_q&#x27;, &#x27;hdi_rank_2021&#x27;]),\n",
       "                                (&#x27;continuous&#x27;, StandardScaler(), [&#x27;hdi_2021&#x27;])])</pre></div></div></div><div class=\"sk-parallel\"><div class=\"sk-parallel-item\"><div class=\"sk-item\"><div class=\"sk-label-container\"><div class=\"sk-label sk-toggleable\"><input class=\"sk-toggleable__control sk-hidden--visually\" id=\"sk-estimator-id-30\" type=\"checkbox\" ><label for=\"sk-estimator-id-30\" class=\"sk-toggleable__label sk-toggleable__label-arrow\">categorical</label><div class=\"sk-toggleable__content\"><pre>[&#x27;mobileowner&#x27;, &#x27;receive_wages&#x27;, &#x27;receive_transfers&#x27;, &#x27;receive_pension&#x27;, &#x27;saved&#x27;, &#x27;pay_utilities&#x27;, &#x27;internetaccess&#x27;]</pre></div></div></div><div class=\"sk-serial\"><div class=\"sk-item\"><div class=\"sk-estimator sk-toggleable\"><input class=\"sk-toggleable__control sk-hidden--visually\" id=\"sk-estimator-id-31\" type=\"checkbox\" ><label for=\"sk-estimator-id-31\" class=\"sk-toggleable__label sk-toggleable__label-arrow\">OneHotEncoder</label><div class=\"sk-toggleable__content\"><pre>OneHotEncoder()</pre></div></div></div></div></div></div><div class=\"sk-parallel-item\"><div class=\"sk-item\"><div class=\"sk-label-container\"><div class=\"sk-label sk-toggleable\"><input class=\"sk-toggleable__control sk-hidden--visually\" id=\"sk-estimator-id-32\" type=\"checkbox\" ><label for=\"sk-estimator-id-32\" class=\"sk-toggleable__label sk-toggleable__label-arrow\">ordinal</label><div class=\"sk-toggleable__content\"><pre>[&#x27;educ&#x27;, &#x27;inc_q&#x27;, &#x27;hdi_rank_2021&#x27;]</pre></div></div></div><div class=\"sk-serial\"><div class=\"sk-item\"><div class=\"sk-estimator sk-toggleable\"><input class=\"sk-toggleable__control sk-hidden--visually\" id=\"sk-estimator-id-33\" type=\"checkbox\" ><label for=\"sk-estimator-id-33\" class=\"sk-toggleable__label sk-toggleable__label-arrow\">OrdinalEncoder</label><div class=\"sk-toggleable__content\"><pre>OrdinalEncoder()</pre></div></div></div></div></div></div><div class=\"sk-parallel-item\"><div class=\"sk-item\"><div class=\"sk-label-container\"><div class=\"sk-label sk-toggleable\"><input class=\"sk-toggleable__control sk-hidden--visually\" id=\"sk-estimator-id-34\" type=\"checkbox\" ><label for=\"sk-estimator-id-34\" class=\"sk-toggleable__label sk-toggleable__label-arrow\">continuous</label><div class=\"sk-toggleable__content\"><pre>[&#x27;hdi_2021&#x27;]</pre></div></div></div><div class=\"sk-serial\"><div class=\"sk-item\"><div class=\"sk-estimator sk-toggleable\"><input class=\"sk-toggleable__control sk-hidden--visually\" id=\"sk-estimator-id-35\" type=\"checkbox\" ><label for=\"sk-estimator-id-35\" class=\"sk-toggleable__label sk-toggleable__label-arrow\">StandardScaler</label><div class=\"sk-toggleable__content\"><pre>StandardScaler()</pre></div></div></div></div></div></div></div></div><div class=\"sk-item\"><div class=\"sk-estimator sk-toggleable\"><input class=\"sk-toggleable__control sk-hidden--visually\" id=\"sk-estimator-id-36\" type=\"checkbox\" ><label for=\"sk-estimator-id-36\" class=\"sk-toggleable__label sk-toggleable__label-arrow\">XGBClassifier</label><div class=\"sk-toggleable__content\"><pre>XGBClassifier(base_score=None, booster=None, callbacks=None,\n",
       "              colsample_bylevel=None, colsample_bynode=None,\n",
       "              colsample_bytree=None, early_stopping_rounds=None,\n",
       "              enable_categorical=False, eval_metric=None, feature_types=None,\n",
       "              gamma=None, gpu_id=None, grow_policy=None, importance_type=None,\n",
       "              interaction_constraints=None, learning_rate=None, max_bin=None,\n",
       "              max_cat_threshold=None, max_cat_to_onehot=None,\n",
       "              max_delta_step=None, max_depth=None, max_leaves=None,\n",
       "              min_child_weight=None, missing=nan, monotone_constraints=None,\n",
       "              n_estimators=100, n_jobs=None, num_parallel_tree=None,\n",
       "              predictor=None, random_state=None, ...)</pre></div></div></div></div></div></div></div>"
      ],
      "text/plain": [
       "Pipeline(steps=[('preprocessor',\n",
       "                 ColumnTransformer(transformers=[('categorical',\n",
       "                                                  OneHotEncoder(),\n",
       "                                                  ['mobileowner',\n",
       "                                                   'receive_wages',\n",
       "                                                   'receive_transfers',\n",
       "                                                   'receive_pension', 'saved',\n",
       "                                                   'pay_utilities',\n",
       "                                                   'internetaccess']),\n",
       "                                                 ('ordinal', OrdinalEncoder(),\n",
       "                                                  ['educ', 'inc_q',\n",
       "                                                   'hdi_rank_2021']),\n",
       "                                                 ('continuous',\n",
       "                                                  StandardScaler(),\n",
       "                                                  ['hdi_2021'])])),\n",
       "                ('xgb',\n",
       "                 XGBClassifier(base_score=N...\n",
       "                               feature_types=None, gamma=None, gpu_id=None,\n",
       "                               grow_policy=None, importance_type=None,\n",
       "                               interaction_constraints=None, learning_rate=None,\n",
       "                               max_bin=None, max_cat_threshold=None,\n",
       "                               max_cat_to_onehot=None, max_delta_step=None,\n",
       "                               max_depth=None, max_leaves=None,\n",
       "                               min_child_weight=None, missing=nan,\n",
       "                               monotone_constraints=None, n_estimators=100,\n",
       "                               n_jobs=None, num_parallel_tree=None,\n",
       "                               predictor=None, random_state=None, ...))])"
      ]
     },
     "execution_count": 94,
     "metadata": {},
     "output_type": "execute_result"
    }
   ],
   "source": [
    "from xgboost import XGBClassifier\n",
    "\n",
    "xgb_pipeline = Pipeline(steps=[('preprocessor', preprocessor),\n",
    "                               ('xgb', XGBClassifier())])\n",
    "\n",
    "xgb_pipeline.fit(X_train, y_train)"
   ]
  },
  {
   "cell_type": "code",
   "execution_count": 95,
   "id": "89ee668d-8a48-4de9-9636-dd89afc1fa2e",
   "metadata": {},
   "outputs": [],
   "source": [
    "xgb_predictions = xgb_pipeline.predict(X_test)\n",
    "xgb_probabilities = xgb_pipeline.predict_proba(X_test)[:, 1]"
   ]
  },
  {
   "cell_type": "code",
   "execution_count": 96,
   "id": "8863f3a1-de2e-484d-9c4d-aa00349aa92f",
   "metadata": {},
   "outputs": [
    {
     "name": "stdout",
     "output_type": "stream",
     "text": [
      "XGBoost Accuracy: 0.88\n",
      "XGBoost AUC: 0.95\n"
     ]
    }
   ],
   "source": [
    "xgb_accuracy = accuracy_score(y_test, xgb_predictions)\n",
    "xgb_auc = roc_auc_score(y_test, xgb_probabilities)\n",
    "\n",
    "print(\"XGBoost Accuracy: {:.2f}\".format(xgb_accuracy))\n",
    "print(\"XGBoost AUC: {:.2f}\".format(xgb_auc))"
   ]
  },
  {
   "cell_type": "code",
   "execution_count": 97,
   "id": "3c30fa91-e626-41bc-a71a-c9add663ef9f",
   "metadata": {},
   "outputs": [
    {
     "name": "stdout",
     "output_type": "stream",
     "text": [
      "              precision    recall  f1-score   support\n",
      "\n",
      "           0       0.76      0.80      0.78      6477\n",
      "           1       0.93      0.91      0.92     17864\n",
      "\n",
      "    accuracy                           0.88     24341\n",
      "   macro avg       0.84      0.85      0.85     24341\n",
      "weighted avg       0.88      0.88      0.88     24341\n",
      "\n"
     ]
    }
   ],
   "source": [
    "print(metrics.classification_report(y_test, xgb_predictions))"
   ]
  },
  {
   "cell_type": "code",
   "execution_count": 98,
   "id": "d9e5659f-9c9d-4395-b0f8-37ec336993d8",
   "metadata": {},
   "outputs": [
    {
     "name": "stdout",
     "output_type": "stream",
     "text": [
      "Log Loss: 0.24701197805759725\n"
     ]
    }
   ],
   "source": [
    "logloss = log_loss(y_test, xgb_probabilities)\n",
    "print(f\"Log Loss: {logloss}\")"
   ]
  },
  {
   "cell_type": "code",
   "execution_count": 99,
   "id": "38310f65-21db-4215-88e3-27bf8e5a7cb4",
   "metadata": {},
   "outputs": [],
   "source": [
    "# Calculate ROC curve\n",
    "xgb_fpr, xgb_tpr, _ = roc_curve(y_test, xgb_probabilities)\n",
    "\n",
    "# Calculate Precision-Recall curve\n",
    "xgb_precision, xgb_recall, _ = precision_recall_curve(y_test, xgb_probabilities)"
   ]
  },
  {
   "cell_type": "markdown",
   "id": "9cbd6793-9a5d-4bf0-b41c-3eea0b2a4909",
   "metadata": {},
   "source": [
    "### XGBoost ROC Curves"
   ]
  },
  {
   "cell_type": "code",
   "execution_count": 100,
   "id": "1fa8b41b-8dd9-4a02-bbf9-32b23a42f5d8",
   "metadata": {},
   "outputs": [
    {
     "data": {
      "image/png": "[encoded data removed]",
      "text/plain": [
       "<Figure size 600x600 with 1 Axes>"
      ]
     },
     "metadata": {},
     "output_type": "display_data"
    }
   ],
   "source": [
    "plt.figure(figsize=(6, 6))\n",
    "\n",
    "plt.plot(xgb_fpr, xgb_tpr, label=f'XGBoost (AUC = {xgb_auc:.2f})')\n",
    "plt.plot(gb_fpr, gb_tpr, label=f'GB (AUC = {gb_auc:.2f})')\n",
    "\n",
    "plt.plot([0, 1], [0, 1], color='gray', linestyle='--')\n",
    "plt.xlim([0.0, 1.0])\n",
    "plt.ylim([0.5, 1.05])\n",
    "plt.xlabel('False Positive Rate')\n",
    "plt.ylabel('True Positive Rate')\n",
    "plt.title('Receiver Operating Characteristic curves')\n",
    "plt.legend(loc=\"lower right\")\n",
    "\n",
    "plt.show()"
   ]
  },
  {
   "cell_type": "markdown",
   "id": "9b36379b-c869-48ae-80b9-58cd33336d01",
   "metadata": {},
   "source": [
    "### Bar Plots Comparing XGBoost Accuracy and AUC-ROC:"
   ]
  },
  {
   "cell_type": "code",
   "execution_count": 106,
   "id": "2b7c6f7b-9a0a-477e-802f-5e7de947a67e",
   "metadata": {},
   "outputs": [
    {
     "data": {
      "image/png": "[encoded data removed]",
      "text/plain": [
       "<Figure size 600x400 with 2 Axes>"
      ]
     },
     "metadata": {},
     "output_type": "display_data"
    }
   ],
   "source": [
    "import matplotlib.pyplot as plt\n",
    "\n",
    "# Accuracy plot\n",
    "plt.figure(figsize=(6, 4))\n",
    "\n",
    "plt.subplot(1, 2, 1)\n",
    "bars = plt.bar(['GB', 'XGBoost'], [gb_accuracy, xgb_accuracy], color=['orange', 'purple'])\n",
    "plt.ylim([0.8, 1])\n",
    "plt.ylabel('Accuracy')\n",
    "plt.title('Model Accuracy Comparison')\n",
    "\n",
    "# Adding data labels\n",
    "for bar in bars:\n",
    "    yval = bar.get_height()\n",
    "    plt.text(bar.get_x() + bar.get_width()/3, yval, round(yval, 2), va='bottom')  # va: vertical alignment\n",
    "\n",
    "# AUC plot\n",
    "plt.subplot(1, 2, 2)\n",
    "bars = plt.bar(['GB', 'XGBoost'], [gb_auc, xgb_auc], color=['orange', 'purple'])\n",
    "plt.ylim([0.8, 1])\n",
    "plt.ylabel('AUC')\n",
    "plt.title('Model AUC Comparison')\n",
    "\n",
    "# Adding data labels\n",
    "for bar in bars:\n",
    "    yval = bar.get_height()\n",
    "    plt.text(bar.get_x() + bar.get_width()/3, yval, round(yval, 2), va='bottom')\n",
    "\n",
    "plt.tight_layout()\n",
    "plt.show()"
   ]
  },
  {
   "cell_type": "code",
   "execution_count": null,
   "id": "2da14f62-7e6e-4dc5-b064-c933cb128b1c",
   "metadata": {},
   "outputs": [],
   "source": []
  }
 ],
 "metadata": {
  "kernelspec": {
   "display_name": "Python 3 (ipykernel)",
   "language": "python",
   "name": "python3"
  },
  "language_info": {
   "codemirror_mode": {
    "name": "ipython",
    "version": 3
   },
   "file_extension": ".py",
   "mimetype": "text/x-python",
   "name": "python",
   "nbconvert_exporter": "python",
   "pygments_lexer": "ipython3",
   "version": "3.10.9"
  },
  "toc-autonumbering": true
 },
 "nbformat": 4,
 "nbformat_minor": 5
}
